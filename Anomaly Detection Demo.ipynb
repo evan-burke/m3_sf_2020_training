{
 "cells": [
  {
   "cell_type": "code",
   "execution_count": 20,
   "metadata": {},
   "outputs": [],
   "source": [
    "import matplotlib.pyplot as plt\n",
    "import pandas as pd \n",
    "from pandas.plotting import register_matplotlib_converters\n",
    "register_matplotlib_converters()"
   ]
  },
  {
   "cell_type": "markdown",
   "metadata": {},
   "source": [
    "To explore anomaly dection, we'll use data on ebola cases (a little more serious than spam complaints, but the statistical process is the same). \n",
    "\n",
    "Sample data from https://data.world/ocha-rowca/f326cf9d-8e37-437d-9b85-5ea3d36e3d39"
   ]
  },
  {
   "cell_type": "code",
   "execution_count": 3,
   "metadata": {},
   "outputs": [
    {
     "data": {
      "text/html": [
       "<div>\n",
       "<style scoped>\n",
       "    .dataframe tbody tr th:only-of-type {\n",
       "        vertical-align: middle;\n",
       "    }\n",
       "\n",
       "    .dataframe tbody tr th {\n",
       "        vertical-align: top;\n",
       "    }\n",
       "\n",
       "    .dataframe thead th {\n",
       "        text-align: right;\n",
       "    }\n",
       "</style>\n",
       "<table border=\"1\" class=\"dataframe\">\n",
       "  <thead>\n",
       "    <tr style=\"text-align: right;\">\n",
       "      <th></th>\n",
       "      <th>Country</th>\n",
       "      <th>Localite</th>\n",
       "      <th>Category</th>\n",
       "      <th>Value</th>\n",
       "      <th>Date</th>\n",
       "    </tr>\n",
       "  </thead>\n",
       "  <tbody>\n",
       "    <tr>\n",
       "      <th>0</th>\n",
       "      <td>Guinea</td>\n",
       "      <td>Guekedou, Macenta, Nzerekore and Kissidougou</td>\n",
       "      <td>Cases</td>\n",
       "      <td>86</td>\n",
       "      <td>3/24/14</td>\n",
       "    </tr>\n",
       "    <tr>\n",
       "      <th>1</th>\n",
       "      <td>Guinea</td>\n",
       "      <td>( Guekedou, Macenta and Kissidougou</td>\n",
       "      <td>Cases</td>\n",
       "      <td>86</td>\n",
       "      <td>3/25/14</td>\n",
       "    </tr>\n",
       "    <tr>\n",
       "      <th>2</th>\n",
       "      <td>Guinea</td>\n",
       "      <td>( Guekedou, Macenta and Kissidougou</td>\n",
       "      <td>Cases</td>\n",
       "      <td>86</td>\n",
       "      <td>3/26/14</td>\n",
       "    </tr>\n",
       "    <tr>\n",
       "      <th>3</th>\n",
       "      <td>Guinea</td>\n",
       "      <td>( Guekedou, Macenta and Kissidougou)</td>\n",
       "      <td>Cases</td>\n",
       "      <td>103</td>\n",
       "      <td>3/27/14</td>\n",
       "    </tr>\n",
       "    <tr>\n",
       "      <th>4</th>\n",
       "      <td>Guinea</td>\n",
       "      <td>National</td>\n",
       "      <td>Cases</td>\n",
       "      <td>122</td>\n",
       "      <td>3/31/14</td>\n",
       "    </tr>\n",
       "  </tbody>\n",
       "</table>\n",
       "</div>"
      ],
      "text/plain": [
       "  Country                                      Localite Category Value  \\\n",
       "0  Guinea  Guekedou, Macenta, Nzerekore and Kissidougou    Cases    86   \n",
       "1  Guinea           ( Guekedou, Macenta and Kissidougou    Cases    86   \n",
       "2  Guinea           ( Guekedou, Macenta and Kissidougou    Cases    86   \n",
       "3  Guinea          ( Guekedou, Macenta and Kissidougou)    Cases   103   \n",
       "4  Guinea                                      National    Cases   122   \n",
       "\n",
       "      Date  \n",
       "0  3/24/14  \n",
       "1  3/25/14  \n",
       "2  3/26/14  \n",
       "3  3/27/14  \n",
       "4  3/31/14  "
      ]
     },
     "execution_count": 3,
     "metadata": {},
     "output_type": "execute_result"
    }
   ],
   "source": [
    "# Read the data into a pandas DataFrame\n",
    "data_raw = pd.read_csv('data/ebola_cases.csv')\n",
    "data_raw.head()"
   ]
  },
  {
   "cell_type": "code",
   "execution_count": 4,
   "metadata": {},
   "outputs": [
    {
     "data": {
      "text/html": [
       "<div>\n",
       "<style scoped>\n",
       "    .dataframe tbody tr th:only-of-type {\n",
       "        vertical-align: middle;\n",
       "    }\n",
       "\n",
       "    .dataframe tbody tr th {\n",
       "        vertical-align: top;\n",
       "    }\n",
       "\n",
       "    .dataframe thead th {\n",
       "        text-align: right;\n",
       "    }\n",
       "</style>\n",
       "<table border=\"1\" class=\"dataframe\">\n",
       "  <thead>\n",
       "    <tr style=\"text-align: right;\">\n",
       "      <th></th>\n",
       "      <th>Value</th>\n",
       "      <th>Date</th>\n",
       "    </tr>\n",
       "  </thead>\n",
       "  <tbody>\n",
       "    <tr>\n",
       "      <th>430</th>\n",
       "      <td>24</td>\n",
       "      <td>8/17/14</td>\n",
       "    </tr>\n",
       "    <tr>\n",
       "      <th>461</th>\n",
       "      <td>56</td>\n",
       "      <td>8/18/14</td>\n",
       "    </tr>\n",
       "    <tr>\n",
       "      <th>490</th>\n",
       "      <td>60</td>\n",
       "      <td>8/19/14</td>\n",
       "    </tr>\n",
       "    <tr>\n",
       "      <th>537</th>\n",
       "      <td>65</td>\n",
       "      <td>8/20/14</td>\n",
       "    </tr>\n",
       "    <tr>\n",
       "      <th>648</th>\n",
       "      <td>89</td>\n",
       "      <td>8/24/14</td>\n",
       "    </tr>\n",
       "  </tbody>\n",
       "</table>\n",
       "</div>"
      ],
      "text/plain": [
       "    Value     Date\n",
       "430    24  8/17/14\n",
       "461    56  8/18/14\n",
       "490    60  8/19/14\n",
       "537    65  8/20/14\n",
       "648    89  8/24/14"
      ]
     },
     "execution_count": 4,
     "metadata": {},
     "output_type": "execute_result"
    }
   ],
   "source": [
    "# For this example we will look at only the National statistics for Liberia\n",
    "df = data_raw[(data_raw.Country == \"Liberia\") & (data_raw.Localite == 'National') & (data_raw.Category == \"New cases\")].drop(['Country', 'Localite', 'Category'], axis=1)\n",
    "df.head()"
   ]
  },
  {
   "cell_type": "markdown",
   "metadata": {},
   "source": [
    "Before any analysis, we need to become familiar with the data and clean it up a little."
   ]
  },
  {
   "cell_type": "code",
   "execution_count": 5,
   "metadata": {},
   "outputs": [
    {
     "data": {
      "text/html": [
       "<div>\n",
       "<style scoped>\n",
       "    .dataframe tbody tr th:only-of-type {\n",
       "        vertical-align: middle;\n",
       "    }\n",
       "\n",
       "    .dataframe tbody tr th {\n",
       "        vertical-align: top;\n",
       "    }\n",
       "\n",
       "    .dataframe thead th {\n",
       "        text-align: right;\n",
       "    }\n",
       "</style>\n",
       "<table border=\"1\" class=\"dataframe\">\n",
       "  <thead>\n",
       "    <tr style=\"text-align: right;\">\n",
       "      <th></th>\n",
       "      <th>Value</th>\n",
       "      <th>Date</th>\n",
       "    </tr>\n",
       "  </thead>\n",
       "  <tbody>\n",
       "    <tr>\n",
       "      <th>count</th>\n",
       "      <td>138</td>\n",
       "      <td>138</td>\n",
       "    </tr>\n",
       "    <tr>\n",
       "      <th>unique</th>\n",
       "      <td>63</td>\n",
       "      <td>137</td>\n",
       "    </tr>\n",
       "    <tr>\n",
       "      <th>top</th>\n",
       "      <td>28</td>\n",
       "      <td>1/31/15</td>\n",
       "    </tr>\n",
       "    <tr>\n",
       "      <th>freq</th>\n",
       "      <td>6</td>\n",
       "      <td>2</td>\n",
       "    </tr>\n",
       "  </tbody>\n",
       "</table>\n",
       "</div>"
      ],
      "text/plain": [
       "       Value     Date\n",
       "count    138      138\n",
       "unique    63      137\n",
       "top       28  1/31/15\n",
       "freq       6        2"
      ]
     },
     "execution_count": 5,
     "metadata": {},
     "output_type": "execute_result"
    }
   ],
   "source": [
    "# The .describe() method provides some descriptive statistics of the data - notice there is a duplicate date\n",
    "df.describe()"
   ]
  },
  {
   "cell_type": "code",
   "execution_count": 6,
   "metadata": {},
   "outputs": [],
   "source": [
    "# Clean up the data by converting to proper datatypes and removing duplicates\n",
    "df['Value'] = df['Value'].str.replace(',', '').astype(int)\n",
    "df['Date'] = pd.to_datetime(df['Date'])\n",
    "df = df.drop_duplicates()\n",
    "df.sort_values(by='Date', inplace=True)"
   ]
  },
  {
   "cell_type": "code",
   "execution_count": 7,
   "metadata": {},
   "outputs": [
    {
     "data": {
      "text/html": [
       "<div>\n",
       "<style scoped>\n",
       "    .dataframe tbody tr th:only-of-type {\n",
       "        vertical-align: middle;\n",
       "    }\n",
       "\n",
       "    .dataframe tbody tr th {\n",
       "        vertical-align: top;\n",
       "    }\n",
       "\n",
       "    .dataframe thead th {\n",
       "        text-align: right;\n",
       "    }\n",
       "</style>\n",
       "<table border=\"1\" class=\"dataframe\">\n",
       "  <thead>\n",
       "    <tr style=\"text-align: right;\">\n",
       "      <th></th>\n",
       "      <th>Value</th>\n",
       "    </tr>\n",
       "  </thead>\n",
       "  <tbody>\n",
       "    <tr>\n",
       "      <th>count</th>\n",
       "      <td>137.000000</td>\n",
       "    </tr>\n",
       "    <tr>\n",
       "      <th>mean</th>\n",
       "      <td>35.912409</td>\n",
       "    </tr>\n",
       "    <tr>\n",
       "      <th>std</th>\n",
       "      <td>24.042082</td>\n",
       "    </tr>\n",
       "    <tr>\n",
       "      <th>min</th>\n",
       "      <td>5.000000</td>\n",
       "    </tr>\n",
       "    <tr>\n",
       "      <th>25%</th>\n",
       "      <td>20.000000</td>\n",
       "    </tr>\n",
       "    <tr>\n",
       "      <th>50%</th>\n",
       "      <td>31.000000</td>\n",
       "    </tr>\n",
       "    <tr>\n",
       "      <th>75%</th>\n",
       "      <td>47.000000</td>\n",
       "    </tr>\n",
       "    <tr>\n",
       "      <th>max</th>\n",
       "      <td>167.000000</td>\n",
       "    </tr>\n",
       "  </tbody>\n",
       "</table>\n",
       "</div>"
      ],
      "text/plain": [
       "            Value\n",
       "count  137.000000\n",
       "mean    35.912409\n",
       "std     24.042082\n",
       "min      5.000000\n",
       "25%     20.000000\n",
       "50%     31.000000\n",
       "75%     47.000000\n",
       "max    167.000000"
      ]
     },
     "execution_count": 7,
     "metadata": {},
     "output_type": "execute_result"
    }
   ],
   "source": [
    "# Now that \"Value\" is an integer, more descriptive statistics are available\n",
    "df.describe()"
   ]
  },
  {
   "cell_type": "code",
   "execution_count": 8,
   "metadata": {},
   "outputs": [
    {
     "data": {
      "text/plain": [
       "count                     137\n",
       "unique                    137\n",
       "top       2014-12-07 00:00:00\n",
       "freq                        1\n",
       "first     2014-08-17 00:00:00\n",
       "last      2015-02-09 00:00:00\n",
       "Name: Date, dtype: object"
      ]
     },
     "execution_count": 8,
     "metadata": {},
     "output_type": "execute_result"
    }
   ],
   "source": [
    "# Using .describe() on the \"Date\" column confirms there are no more duplicate dates\n",
    "df['Date'].describe()"
   ]
  },
  {
   "cell_type": "markdown",
   "metadata": {},
   "source": [
    "Some anomalies can be detected through data visualizations alone."
   ]
  },
  {
   "cell_type": "code",
   "execution_count": 21,
   "metadata": {},
   "outputs": [
    {
     "data": {
      "text/plain": [
       "[<matplotlib.lines.Line2D at 0x12d2b2fd0>]"
      ]
     },
     "execution_count": 21,
     "metadata": {},
     "output_type": "execute_result"
    },
    {
     "data": {
      "image/png": "[encoded data removed]",
      "text/plain": [
       "<Figure size 800x600 with 1 Axes>"
      ]
     },
     "metadata": {},
     "output_type": "display_data"
    }
   ],
   "source": [
    "# matplotlib is a good tool for quick visualizations in python\n",
    "plt.style.use('seaborn-white')\n",
    "plt.rc('font', size=5)\n",
    "fig = plt.figure(figsize=(4, 3), dpi=200)\n",
    "ax = plt.axes(title='Ebola Cases in Liberia', xlabel='Date', ylabel='Number of Cases Reported')\n",
    "\n",
    "x = df['Date']\n",
    "y = df['Value']\n",
    "ax.plot(x, y)"
   ]
  },
  {
   "cell_type": "markdown",
   "metadata": {},
   "source": [
    "The graph above shows a couple places where the number of cases significantly increased, but how much of an increase should warrant investigation? What if you have many metrics to track and don't have a human to look at the charts everyday? Statistics can help...\n",
    "\n",
    "\n",
    "First we calculate a moving average and standard deviation for the data. In this example, we use a seven day window for the rolling statistics."
   ]
  },
  {
   "cell_type": "code",
   "execution_count": 23,
   "metadata": {},
   "outputs": [],
   "source": [
    "# Create a new column with the rolling mean\n",
    "df['rolling_mean'] = df['Value'].rolling(7).mean()"
   ]
  },
  {
   "cell_type": "code",
   "execution_count": 24,
   "metadata": {},
   "outputs": [],
   "source": [
    "# Create a new column with the rolling standard deviation\n",
    "df['rolling_std'] = df['Value'].rolling(7).std()"
   ]
  },
  {
   "cell_type": "markdown",
   "metadata": {},
   "source": [
    "Because the rolling statistics are calculated from the previous 7 days, the first six days of data will not have these data points."
   ]
  },
  {
   "cell_type": "code",
   "execution_count": 25,
   "metadata": {},
   "outputs": [
    {
     "data": {
      "text/html": [
       "<div>\n",
       "<style scoped>\n",
       "    .dataframe tbody tr th:only-of-type {\n",
       "        vertical-align: middle;\n",
       "    }\n",
       "\n",
       "    .dataframe tbody tr th {\n",
       "        vertical-align: top;\n",
       "    }\n",
       "\n",
       "    .dataframe thead th {\n",
       "        text-align: right;\n",
       "    }\n",
       "</style>\n",
       "<table border=\"1\" class=\"dataframe\">\n",
       "  <thead>\n",
       "    <tr style=\"text-align: right;\">\n",
       "      <th></th>\n",
       "      <th>Value</th>\n",
       "      <th>Date</th>\n",
       "      <th>rolling_mean</th>\n",
       "      <th>rolling_std</th>\n",
       "    </tr>\n",
       "  </thead>\n",
       "  <tbody>\n",
       "    <tr>\n",
       "      <th>430</th>\n",
       "      <td>24</td>\n",
       "      <td>2014-08-17</td>\n",
       "      <td>NaN</td>\n",
       "      <td>NaN</td>\n",
       "    </tr>\n",
       "    <tr>\n",
       "      <th>461</th>\n",
       "      <td>56</td>\n",
       "      <td>2014-08-18</td>\n",
       "      <td>NaN</td>\n",
       "      <td>NaN</td>\n",
       "    </tr>\n",
       "    <tr>\n",
       "      <th>490</th>\n",
       "      <td>60</td>\n",
       "      <td>2014-08-19</td>\n",
       "      <td>NaN</td>\n",
       "      <td>NaN</td>\n",
       "    </tr>\n",
       "    <tr>\n",
       "      <th>537</th>\n",
       "      <td>65</td>\n",
       "      <td>2014-08-20</td>\n",
       "      <td>NaN</td>\n",
       "      <td>NaN</td>\n",
       "    </tr>\n",
       "    <tr>\n",
       "      <th>648</th>\n",
       "      <td>89</td>\n",
       "      <td>2014-08-24</td>\n",
       "      <td>NaN</td>\n",
       "      <td>NaN</td>\n",
       "    </tr>\n",
       "    <tr>\n",
       "      <th>734</th>\n",
       "      <td>29</td>\n",
       "      <td>2014-08-25</td>\n",
       "      <td>NaN</td>\n",
       "      <td>NaN</td>\n",
       "    </tr>\n",
       "    <tr>\n",
       "      <th>824</th>\n",
       "      <td>84</td>\n",
       "      <td>2014-08-26</td>\n",
       "      <td>58.142857</td>\n",
       "      <td>24.802074</td>\n",
       "    </tr>\n",
       "    <tr>\n",
       "      <th>948</th>\n",
       "      <td>61</td>\n",
       "      <td>2014-08-28</td>\n",
       "      <td>63.428571</td>\n",
       "      <td>19.738770</td>\n",
       "    </tr>\n",
       "    <tr>\n",
       "      <th>1044</th>\n",
       "      <td>69</td>\n",
       "      <td>2014-08-29</td>\n",
       "      <td>65.285714</td>\n",
       "      <td>19.533853</td>\n",
       "    </tr>\n",
       "    <tr>\n",
       "      <th>1106</th>\n",
       "      <td>42</td>\n",
       "      <td>2014-08-30</td>\n",
       "      <td>62.714286</td>\n",
       "      <td>21.437617</td>\n",
       "    </tr>\n",
       "  </tbody>\n",
       "</table>\n",
       "</div>"
      ],
      "text/plain": [
       "      Value       Date  rolling_mean  rolling_std\n",
       "430      24 2014-08-17           NaN          NaN\n",
       "461      56 2014-08-18           NaN          NaN\n",
       "490      60 2014-08-19           NaN          NaN\n",
       "537      65 2014-08-20           NaN          NaN\n",
       "648      89 2014-08-24           NaN          NaN\n",
       "734      29 2014-08-25           NaN          NaN\n",
       "824      84 2014-08-26     58.142857    24.802074\n",
       "948      61 2014-08-28     63.428571    19.738770\n",
       "1044     69 2014-08-29     65.285714    19.533853\n",
       "1106     42 2014-08-30     62.714286    21.437617"
      ]
     },
     "execution_count": 25,
     "metadata": {},
     "output_type": "execute_result"
    }
   ],
   "source": [
    "df.head(10)"
   ]
  },
  {
   "cell_type": "code",
   "execution_count": 26,
   "metadata": {},
   "outputs": [
    {
     "data": {
      "image/png": "[encoded data removed]",
      "text/plain": [
       "<Figure size 800x600 with 1 Axes>"
      ]
     },
     "metadata": {},
     "output_type": "display_data"
    }
   ],
   "source": [
    "# A histogram of the values shows us the distribution of the data\n",
    "plt.figure(figsize=(4, 3), dpi=200)\n",
    "plt.xlabel('Number of New Cases')\n",
    "plt.ylabel('Number of Days')\n",
    "plt.hist(df['Value'], bins=40, edgecolor='black', linewidth=1.2)\n",
    "plt.show()"
   ]
  },
  {
   "cell_type": "markdown",
   "metadata": {},
   "source": [
    "The empirical rule tells us that, for normally distributed data, 95% of data points will lie within 2 standard deviations of the mean. You can choose the number of standard deviations to use depending on normal data trends for your situation and how drastic of an anomaly should warrant action or awareness.\n",
    "\n",
    "<img src=\"img/empirical-rule.png\" width=\"600\">\n",
    "\n",
    "[Image Source](https://courses.lumenlearning.com/atd-austincc-mathlibarts/chapter/the-empirical-rule/)\n",
    "\n",
    "If the data is not normally distributed, Chebyshev's Inequality applies as long as there is a known, finite mean and variance. This states at least 1 - 1/_k_^2 of the values are within _k_ standard deviations of the mean.\n",
    "\n",
    "<img src=\"img/chebyshev.png\" width=\"400\">\n",
    "\n",
    "[Image Source](https://en.wikipedia.org/wiki/Chebyshev%27s_inequality)"
   ]
  },
  {
   "cell_type": "code",
   "execution_count": 28,
   "metadata": {},
   "outputs": [
    {
     "data": {
      "text/html": [
       "<div>\n",
       "<style scoped>\n",
       "    .dataframe tbody tr th:only-of-type {\n",
       "        vertical-align: middle;\n",
       "    }\n",
       "\n",
       "    .dataframe tbody tr th {\n",
       "        vertical-align: top;\n",
       "    }\n",
       "\n",
       "    .dataframe thead th {\n",
       "        text-align: right;\n",
       "    }\n",
       "</style>\n",
       "<table border=\"1\" class=\"dataframe\">\n",
       "  <thead>\n",
       "    <tr style=\"text-align: right;\">\n",
       "      <th></th>\n",
       "      <th>Value</th>\n",
       "      <th>Date</th>\n",
       "      <th>rolling_mean</th>\n",
       "      <th>rolling_std</th>\n",
       "      <th>exp_min</th>\n",
       "      <th>exp_max</th>\n",
       "    </tr>\n",
       "  </thead>\n",
       "  <tbody>\n",
       "    <tr>\n",
       "      <th>430</th>\n",
       "      <td>24</td>\n",
       "      <td>2014-08-17</td>\n",
       "      <td>NaN</td>\n",
       "      <td>NaN</td>\n",
       "      <td>NaN</td>\n",
       "      <td>NaN</td>\n",
       "    </tr>\n",
       "    <tr>\n",
       "      <th>461</th>\n",
       "      <td>56</td>\n",
       "      <td>2014-08-18</td>\n",
       "      <td>NaN</td>\n",
       "      <td>NaN</td>\n",
       "      <td>NaN</td>\n",
       "      <td>NaN</td>\n",
       "    </tr>\n",
       "    <tr>\n",
       "      <th>490</th>\n",
       "      <td>60</td>\n",
       "      <td>2014-08-19</td>\n",
       "      <td>NaN</td>\n",
       "      <td>NaN</td>\n",
       "      <td>NaN</td>\n",
       "      <td>NaN</td>\n",
       "    </tr>\n",
       "    <tr>\n",
       "      <th>537</th>\n",
       "      <td>65</td>\n",
       "      <td>2014-08-20</td>\n",
       "      <td>NaN</td>\n",
       "      <td>NaN</td>\n",
       "      <td>NaN</td>\n",
       "      <td>NaN</td>\n",
       "    </tr>\n",
       "    <tr>\n",
       "      <th>648</th>\n",
       "      <td>89</td>\n",
       "      <td>2014-08-24</td>\n",
       "      <td>NaN</td>\n",
       "      <td>NaN</td>\n",
       "      <td>NaN</td>\n",
       "      <td>NaN</td>\n",
       "    </tr>\n",
       "    <tr>\n",
       "      <th>734</th>\n",
       "      <td>29</td>\n",
       "      <td>2014-08-25</td>\n",
       "      <td>NaN</td>\n",
       "      <td>NaN</td>\n",
       "      <td>NaN</td>\n",
       "      <td>NaN</td>\n",
       "    </tr>\n",
       "    <tr>\n",
       "      <th>824</th>\n",
       "      <td>84</td>\n",
       "      <td>2014-08-26</td>\n",
       "      <td>58.142857</td>\n",
       "      <td>24.802074</td>\n",
       "      <td>8.538710</td>\n",
       "      <td>107.747004</td>\n",
       "    </tr>\n",
       "    <tr>\n",
       "      <th>948</th>\n",
       "      <td>61</td>\n",
       "      <td>2014-08-28</td>\n",
       "      <td>63.428571</td>\n",
       "      <td>19.738770</td>\n",
       "      <td>23.951031</td>\n",
       "      <td>102.906112</td>\n",
       "    </tr>\n",
       "    <tr>\n",
       "      <th>1044</th>\n",
       "      <td>69</td>\n",
       "      <td>2014-08-29</td>\n",
       "      <td>65.285714</td>\n",
       "      <td>19.533853</td>\n",
       "      <td>26.218007</td>\n",
       "      <td>104.353421</td>\n",
       "    </tr>\n",
       "    <tr>\n",
       "      <th>1106</th>\n",
       "      <td>42</td>\n",
       "      <td>2014-08-30</td>\n",
       "      <td>62.714286</td>\n",
       "      <td>21.437617</td>\n",
       "      <td>19.839051</td>\n",
       "      <td>105.589520</td>\n",
       "    </tr>\n",
       "  </tbody>\n",
       "</table>\n",
       "</div>"
      ],
      "text/plain": [
       "      Value       Date  rolling_mean  rolling_std    exp_min     exp_max\n",
       "430      24 2014-08-17           NaN          NaN        NaN         NaN\n",
       "461      56 2014-08-18           NaN          NaN        NaN         NaN\n",
       "490      60 2014-08-19           NaN          NaN        NaN         NaN\n",
       "537      65 2014-08-20           NaN          NaN        NaN         NaN\n",
       "648      89 2014-08-24           NaN          NaN        NaN         NaN\n",
       "734      29 2014-08-25           NaN          NaN        NaN         NaN\n",
       "824      84 2014-08-26     58.142857    24.802074   8.538710  107.747004\n",
       "948      61 2014-08-28     63.428571    19.738770  23.951031  102.906112\n",
       "1044     69 2014-08-29     65.285714    19.533853  26.218007  104.353421\n",
       "1106     42 2014-08-30     62.714286    21.437617  19.839051  105.589520"
      ]
     },
     "execution_count": 28,
     "metadata": {},
     "output_type": "execute_result"
    }
   ],
   "source": [
    "# Add columns for the expected minimum and maximum values based on the rolling mean and standard deviation\n",
    "df['exp_min'] = df['rolling_mean'] - 2*df['rolling_std']\n",
    "df['exp_max'] = df['rolling_mean'] + 2*df['rolling_std']\n",
    "df.head(10)"
   ]
  },
  {
   "cell_type": "code",
   "execution_count": 29,
   "metadata": {},
   "outputs": [
    {
     "data": {
      "text/plain": [
       "[<matplotlib.lines.Line2D at 0x126a65710>]"
      ]
     },
     "execution_count": 29,
     "metadata": {},
     "output_type": "execute_result"
    },
    {
     "data": {
      "image/png": "[encoded data removed]",
      "text/plain": [
       "<Figure size 800x600 with 1 Axes>"
      ]
     },
     "metadata": {},
     "output_type": "display_data"
    }
   ],
   "source": [
    "plt.style.use('seaborn-white')\n",
    "plt.rc('font', size=5)\n",
    "fig = plt.figure(figsize=(4, 3), dpi=200)\n",
    "ax = plt.axes(title='Ebola Cases in Liberia', xlabel='Date', ylabel='Number of Cases Reported')\n",
    "\n",
    "x = df['Date']\n",
    "y = df['Value']\n",
    "# Visualize again, this time with the expected value region\n",
    "plt.fill_between(x, df['exp_min'], df['exp_max'], facecolor=\"green\", alpha=0.2)\n",
    "ax.plot(x, y)"
   ]
  },
  {
   "cell_type": "code",
   "execution_count": 30,
   "metadata": {},
   "outputs": [],
   "source": [
    "# Create a function that can be applied to each row to determine if the value is an outlier \n",
    "# (greater than the maximum expected value or less than the minimum expected value)\n",
    "def is_outlier(row):\n",
    "    if row.Value > row.exp_max or row.Value < row.exp_min:\n",
    "        return True\n",
    "    else:\n",
    "        return False"
   ]
  },
  {
   "cell_type": "code",
   "execution_count": 31,
   "metadata": {},
   "outputs": [
    {
     "data": {
      "text/html": [
       "<div>\n",
       "<style scoped>\n",
       "    .dataframe tbody tr th:only-of-type {\n",
       "        vertical-align: middle;\n",
       "    }\n",
       "\n",
       "    .dataframe tbody tr th {\n",
       "        vertical-align: top;\n",
       "    }\n",
       "\n",
       "    .dataframe thead th {\n",
       "        text-align: right;\n",
       "    }\n",
       "</style>\n",
       "<table border=\"1\" class=\"dataframe\">\n",
       "  <thead>\n",
       "    <tr style=\"text-align: right;\">\n",
       "      <th></th>\n",
       "      <th>Value</th>\n",
       "      <th>Date</th>\n",
       "      <th>rolling_mean</th>\n",
       "      <th>rolling_std</th>\n",
       "      <th>exp_min</th>\n",
       "      <th>exp_max</th>\n",
       "      <th>outlier</th>\n",
       "    </tr>\n",
       "  </thead>\n",
       "  <tbody>\n",
       "    <tr>\n",
       "      <th>16306</th>\n",
       "      <td>29</td>\n",
       "      <td>2015-02-05</td>\n",
       "      <td>18.285714</td>\n",
       "      <td>6.575568</td>\n",
       "      <td>5.134578</td>\n",
       "      <td>31.436850</td>\n",
       "      <td>False</td>\n",
       "    </tr>\n",
       "    <tr>\n",
       "      <th>16338</th>\n",
       "      <td>25</td>\n",
       "      <td>2015-02-06</td>\n",
       "      <td>19.571429</td>\n",
       "      <td>6.924766</td>\n",
       "      <td>5.721897</td>\n",
       "      <td>33.420960</td>\n",
       "      <td>False</td>\n",
       "    </tr>\n",
       "    <tr>\n",
       "      <th>16370</th>\n",
       "      <td>7</td>\n",
       "      <td>2015-02-07</td>\n",
       "      <td>19.000000</td>\n",
       "      <td>7.852813</td>\n",
       "      <td>3.294375</td>\n",
       "      <td>34.705625</td>\n",
       "      <td>False</td>\n",
       "    </tr>\n",
       "    <tr>\n",
       "      <th>16672</th>\n",
       "      <td>5</td>\n",
       "      <td>2015-02-08</td>\n",
       "      <td>16.142857</td>\n",
       "      <td>8.877473</td>\n",
       "      <td>-1.612089</td>\n",
       "      <td>33.897803</td>\n",
       "      <td>False</td>\n",
       "    </tr>\n",
       "    <tr>\n",
       "      <th>16704</th>\n",
       "      <td>41</td>\n",
       "      <td>2015-02-09</td>\n",
       "      <td>19.571429</td>\n",
       "      <td>12.959644</td>\n",
       "      <td>-6.347860</td>\n",
       "      <td>45.490717</td>\n",
       "      <td>False</td>\n",
       "    </tr>\n",
       "  </tbody>\n",
       "</table>\n",
       "</div>"
      ],
      "text/plain": [
       "       Value       Date  rolling_mean  rolling_std   exp_min    exp_max  \\\n",
       "16306     29 2015-02-05     18.285714     6.575568  5.134578  31.436850   \n",
       "16338     25 2015-02-06     19.571429     6.924766  5.721897  33.420960   \n",
       "16370      7 2015-02-07     19.000000     7.852813  3.294375  34.705625   \n",
       "16672      5 2015-02-08     16.142857     8.877473 -1.612089  33.897803   \n",
       "16704     41 2015-02-09     19.571429    12.959644 -6.347860  45.490717   \n",
       "\n",
       "       outlier  \n",
       "16306    False  \n",
       "16338    False  \n",
       "16370    False  \n",
       "16672    False  \n",
       "16704    False  "
      ]
     },
     "execution_count": 31,
     "metadata": {},
     "output_type": "execute_result"
    }
   ],
   "source": [
    "# Create a new column with the result of the outlier check\n",
    "df['outlier'] = df.apply(lambda row: is_outlier(row), axis=1)\n",
    "df.tail()"
   ]
  },
  {
   "cell_type": "code",
   "execution_count": 32,
   "metadata": {},
   "outputs": [
    {
     "data": {
      "text/html": [
       "<div>\n",
       "<style scoped>\n",
       "    .dataframe tbody tr th:only-of-type {\n",
       "        vertical-align: middle;\n",
       "    }\n",
       "\n",
       "    .dataframe tbody tr th {\n",
       "        vertical-align: top;\n",
       "    }\n",
       "\n",
       "    .dataframe thead th {\n",
       "        text-align: right;\n",
       "    }\n",
       "</style>\n",
       "<table border=\"1\" class=\"dataframe\">\n",
       "  <thead>\n",
       "    <tr style=\"text-align: right;\">\n",
       "      <th></th>\n",
       "      <th>Value</th>\n",
       "      <th>Date</th>\n",
       "      <th>rolling_mean</th>\n",
       "      <th>rolling_std</th>\n",
       "      <th>exp_min</th>\n",
       "      <th>exp_max</th>\n",
       "      <th>outlier</th>\n",
       "    </tr>\n",
       "  </thead>\n",
       "  <tbody>\n",
       "    <tr>\n",
       "      <th>2056</th>\n",
       "      <td>120</td>\n",
       "      <td>2014-09-11</td>\n",
       "      <td>65.000000</td>\n",
       "      <td>26.695817</td>\n",
       "      <td>11.608365</td>\n",
       "      <td>118.391635</td>\n",
       "      <td>True</td>\n",
       "    </tr>\n",
       "    <tr>\n",
       "      <th>5038</th>\n",
       "      <td>167</td>\n",
       "      <td>2014-10-17</td>\n",
       "      <td>53.142857</td>\n",
       "      <td>52.368657</td>\n",
       "      <td>-51.594456</td>\n",
       "      <td>157.880170</td>\n",
       "      <td>True</td>\n",
       "    </tr>\n",
       "  </tbody>\n",
       "</table>\n",
       "</div>"
      ],
      "text/plain": [
       "      Value       Date  rolling_mean  rolling_std    exp_min     exp_max  \\\n",
       "2056    120 2014-09-11     65.000000    26.695817  11.608365  118.391635   \n",
       "5038    167 2014-10-17     53.142857    52.368657 -51.594456  157.880170   \n",
       "\n",
       "      outlier  \n",
       "2056     True  \n",
       "5038     True  "
      ]
     },
     "execution_count": 32,
     "metadata": {},
     "output_type": "execute_result"
    }
   ],
   "source": [
    "# Look for the rows with outlier=True to see the days that fit the parameters we defined for an outlier\n",
    "df[(df['outlier'] == True)]"
   ]
  },
  {
   "cell_type": "markdown",
   "metadata": {},
   "source": [
    "Try on your own!\n",
    "\n",
    "\n",
    "Conduct similar analysis for a different country or locality. How many anomalies did you find? What differences do you see if you change the size of the window from 7 days? What about changing the number of standard deviations used to determine the expected data range?"
   ]
  },
  {
   "cell_type": "code",
   "execution_count": null,
   "metadata": {},
   "outputs": [],
   "source": []
  }
 ],
 "metadata": {
  "kernelspec": {
   "display_name": "Python 3",
   "language": "python",
   "name": "python3"
  },
  "language_info": {
   "codemirror_mode": {
    "name": "ipython",
    "version": 3
   },
   "file_extension": ".py",
   "mimetype": "text/x-python",
   "name": "python",
   "nbconvert_exporter": "python",
   "pygments_lexer": "ipython3",
   "version": "3.7.2"
  },
  "latex_envs": {
   "LaTeX_envs_menu_present": true,
   "autoclose": true,
   "autocomplete": true,
   "bibliofile": "biblio.bib",
   "cite_by": "apalike",
   "current_citInitial": 1,
   "eqLabelWithNumbers": true,
   "eqNumInitial": 1,
   "hotkeys": {
    "equation": "Ctrl-E",
    "itemize": "Ctrl-I"
   },
   "labels_anchors": false,
   "latex_user_defs": false,
   "report_style_numbering": false,
   "user_envs_cfg": false
  },
  "toc": {
   "base_numbering": 1,
   "nav_menu": {},
   "number_sections": true,
   "sideBar": true,
   "skip_h1_title": false,
   "title_cell": "Table of Contents",
   "title_sidebar": "Contents",
   "toc_cell": false,
   "toc_position": {},
   "toc_section_display": true,
   "toc_window_display": false
  }
 },
 "nbformat": 4,
 "nbformat_minor": 4
}
