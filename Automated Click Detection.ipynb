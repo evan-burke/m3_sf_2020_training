{
 "cells": [
  {
   "cell_type": "code",
   "execution_count": 1,
   "metadata": {},
   "outputs": [],
   "source": [
    "# "
   ]
  },
  {
   "cell_type": "code",
   "execution_count": 2,
   "metadata": {},
   "outputs": [],
   "source": [
    "%load_ext autoreload\n",
    "%autoreload 2"
   ]
  },
  {
   "cell_type": "code",
   "execution_count": 3,
   "metadata": {},
   "outputs": [],
   "source": [
    "import matplotlib.pyplot as plt\n",
    "import os\n",
    "import pandas as pd\n",
    "import sys\n",
    "\n",
    "\n",
    "clickmodule_dir = \"/home/jovyan/eb/Documents/inbox science/clicks_nbdev/\"\n",
    "sys.path.append(clickmodule_dir)\n",
    "\n",
    "#os.chdir(clickmodule_dir)\n",
    "\n",
    "from clicks_nbdev.offline_augmentation import asnLookup\n",
    "\n",
    "import clicks_nbdev.el_augmentation as ela"
   ]
  },
  {
   "cell_type": "code",
   "execution_count": 4,
   "metadata": {},
   "outputs": [],
   "source": [
    "# Create some instances we'll need\n",
    "p = ela.requestdict_parser()\n",
    "asndb = asnLookup()"
   ]
  },
  {
   "cell_type": "code",
   "execution_count": 5,
   "metadata": {},
   "outputs": [
    {
     "data": {
      "text/plain": [
       "(21928, '172.56.20.0/23', 'T-MOBILE-AS21928, US')"
      ]
     },
     "execution_count": 5,
     "metadata": {},
     "output_type": "execute_result"
    }
   ],
   "source": [
    "asndb.get_asn_details('172.56.20.104')"
   ]
  },
  {
   "cell_type": "code",
   "execution_count": 6,
   "metadata": {},
   "outputs": [
    {
     "name": "stdout",
     "output_type": "stream",
     "text": [
      "/home/jovyan/eb/Documents/inbox science/maawg/m3_sf_2020_training\n"
     ]
    }
   ],
   "source": [
    "print(os.getcwd())"
   ]
  },
  {
   "cell_type": "code",
   "execution_count": 7,
   "metadata": {},
   "outputs": [],
   "source": [
    "#parquet_path = \"/home/jovyan/eb/Documents/inbox science/clicks_nbdev/temp/\"\n",
    "\n",
    "parquet_path = \"/home/jovyan/eb/Documents/inbox science/clicks_nbdev/temp/step2\"\n"
   ]
  },
  {
   "cell_type": "code",
   "execution_count": 8,
   "metadata": {},
   "outputs": [],
   "source": [
    "parquet_files = []\n",
    "for i in os.listdir(parquet_path):\n",
    "    if i.startswith(\"prod_\") and i.endswith(\"parquet\"):\n",
    "        parquet_files.append(i)"
   ]
  },
  {
   "cell_type": "code",
   "execution_count": 9,
   "metadata": {},
   "outputs": [],
   "source": [
    "def extract_farm(filename):\n",
    "    return i.replace(\"prod_aem_\", \"\").split(\"-\")[0]"
   ]
  },
  {
   "cell_type": "code",
   "execution_count": 10,
   "metadata": {},
   "outputs": [
    {
     "data": {
      "text/plain": [
       "['prod_aem_elabs10-web10_access_log-20200112_step2.parquet',\n",
       " 'prod_aem_elabs10-web1_access_log-20200119_step2.parquet',\n",
       " 'prod_aem_elabs10-web1_access_log-20200126_step2.parquet',\n",
       " 'prod_aem_elabs10-web2_access_log-20200105_step2.parquet',\n",
       " 'prod_aem_elabs10-web2_access_log-20200112_step2.parquet',\n",
       " 'prod_aem_elabs10-web3_access_log-20200126_step2.parquet']"
      ]
     },
     "execution_count": 10,
     "metadata": {},
     "output_type": "execute_result"
    }
   ],
   "source": [
    "parquet_files[0:6]"
   ]
  },
  {
   "cell_type": "code",
   "execution_count": 19,
   "metadata": {},
   "outputs": [
    {
     "name": "stdout",
     "output_type": "stream",
     "text": [
      "tf: elabs10\n",
      "0 shape: (56820, 26) prod_aem_elabs10-web10_access_log-20200112_step2.parquet\n",
      "tf: elabs10\n",
      "1 shape: (67296, 26) prod_aem_elabs10-web1_access_log-20200119_step2.parquet\n",
      "tf: elabs10\n",
      "2 shape: (90432, 26) prod_aem_elabs10-web1_access_log-20200126_step2.parquet\n",
      "tf: elabs10\n",
      "3 shape: (45297, 26) prod_aem_elabs10-web2_access_log-20200105_step2.parquet\n",
      "final shape: (259845, 25)\n"
     ]
    }
   ],
   "source": [
    "files_to_load = 25\n",
    "\n",
    "df_loaded = None\n",
    "#pd.read_parquet(parquet_path + \"/\" + parquet_files[0])\n",
    "for n, i in enumerate(parquet_files[0:files_to_load]):\n",
    "    \n",
    "    this_farm = extract_farm(i)\n",
    "    \n",
    "    _df = pd.read_parquet(parquet_path + \"/\" + i)\n",
    "    _df = _df.assign(farm=this_farm)\n",
    "    print(n, \"shape:\", _df.shape, i)\n",
    "    if isinstance(df_loaded, pd.core.frame.DataFrame):\n",
    "        df_loaded = pd.concat([df_loaded, _df])\n",
    "    else:\n",
    "        df_loaded = _df\n",
    "\n",
    "del _df\n",
    "\n",
    "\n",
    "# Some cleanup... \n",
    "#df_loaded = df.drop('ip_slash24', axis='columns')\n",
    "\n",
    "df_loaded.drop('request_header_host', axis='columns', inplace=True)\n",
    "\n",
    "# concat farm + mid for uniqueness\n",
    "df['farm_mid'] = df['farm'] + \"_\" + df['mid'].astype(str)\n",
    "\n",
    "# drop any images that managed to sneak by\n",
    "_flt = df_loaded.query('el_request_type == \"image\"')\n",
    "df_loaded.drop(_flt.index, inplace=True)\n",
    "\n",
    "df_loaded.rename({\"time_received_utc_datetimeobj\":\"request_time\"}, axis='columns', inplace=True)\n",
    "\n",
    "print(\"final shape:\", df_loaded.shape)"
   ]
  },
  {
   "cell_type": "code",
   "execution_count": 20,
   "metadata": {},
   "outputs": [],
   "source": [
    "df = df_loaded.copy()"
   ]
  },
  {
   "cell_type": "code",
   "execution_count": 21,
   "metadata": {},
   "outputs": [
    {
     "name": "stdout",
     "output_type": "stream",
     "text": [
      "<class 'pandas.core.frame.DataFrame'>\n",
      "Int64Index: 259845 entries, 16 to 332147\n",
      "Data columns (total 25 columns):\n",
      "request_time                                          259845 non-null datetime64[ns, UTC]\n",
      "remote_ip                                             259845 non-null object\n",
      "conn_status                                           259845 non-null object\n",
      "request_method                                        259845 non-null object\n",
      "request_url_path                                      259845 non-null object\n",
      "request_url_query_simple_dict                         259845 non-null object\n",
      "status                                                259845 non-null object\n",
      "response_bytes_clf                                    259845 non-null object\n",
      "request_header_referer                                259845 non-null object\n",
      "request_header_user_agent                             259845 non-null object\n",
      "request_header_user_agent__browser__family            259845 non-null object\n",
      "request_header_user_agent__browser__version_string    259845 non-null object\n",
      "request_header_user_agent__os__family                 259845 non-null object\n",
      "request_header_user_agent__os__version_string         259845 non-null object\n",
      "request_header_user_agent__is_mobile                  259845 non-null bool\n",
      "ip_slash24                                            259845 non-null object\n",
      "el_request_type                                       259845 non-null object\n",
      "sid                                                   259845 non-null int64\n",
      "mid                                                   259845 non-null int32\n",
      "mlid                                                  259845 non-null int32\n",
      "ruid                                                  241923 non-null object\n",
      "asn                                                   259845 non-null int32\n",
      "netblock                                              259845 non-null object\n",
      "as_org                                                259845 non-null object\n",
      "farm                                                  259845 non-null object\n",
      "dtypes: bool(1), datetime64[ns, UTC](1), int32(3), int64(1), object(19)\n",
      "memory usage: 46.8+ MB\n"
     ]
    }
   ],
   "source": [
    "df.info()"
   ]
  },
  {
   "cell_type": "code",
   "execution_count": 30,
   "metadata": {},
   "outputs": [
    {
     "data": {
      "text/html": [
       "<div>\n",
       "<style scoped>\n",
       "    .dataframe tbody tr th:only-of-type {\n",
       "        vertical-align: middle;\n",
       "    }\n",
       "\n",
       "    .dataframe tbody tr th {\n",
       "        vertical-align: top;\n",
       "    }\n",
       "\n",
       "    .dataframe thead th {\n",
       "        text-align: right;\n",
       "    }\n",
       "</style>\n",
       "<table border=\"1\" class=\"dataframe\">\n",
       "  <thead>\n",
       "    <tr style=\"text-align: right;\">\n",
       "      <th></th>\n",
       "      <th>request_time</th>\n",
       "      <th>remote_ip</th>\n",
       "      <th>conn_status</th>\n",
       "      <th>request_method</th>\n",
       "      <th>request_url_path</th>\n",
       "      <th>request_url_query_simple_dict</th>\n",
       "      <th>status</th>\n",
       "      <th>response_bytes_clf</th>\n",
       "      <th>request_header_referer</th>\n",
       "      <th>request_header_user_agent</th>\n",
       "      <th>...</th>\n",
       "      <th>el_request_type</th>\n",
       "      <th>sid</th>\n",
       "      <th>mid</th>\n",
       "      <th>mlid</th>\n",
       "      <th>ruid</th>\n",
       "      <th>asn</th>\n",
       "      <th>netblock</th>\n",
       "      <th>as_org</th>\n",
       "      <th>farm</th>\n",
       "      <th>farm_mid</th>\n",
       "    </tr>\n",
       "    <tr>\n",
       "      <th>index</th>\n",
       "      <th></th>\n",
       "      <th></th>\n",
       "      <th></th>\n",
       "      <th></th>\n",
       "      <th></th>\n",
       "      <th></th>\n",
       "      <th></th>\n",
       "      <th></th>\n",
       "      <th></th>\n",
       "      <th></th>\n",
       "      <th></th>\n",
       "      <th></th>\n",
       "      <th></th>\n",
       "      <th></th>\n",
       "      <th></th>\n",
       "      <th></th>\n",
       "      <th></th>\n",
       "      <th></th>\n",
       "      <th></th>\n",
       "      <th></th>\n",
       "      <th></th>\n",
       "    </tr>\n",
       "  </thead>\n",
       "  <tbody>\n",
       "    <tr>\n",
       "      <th>16</th>\n",
       "      <td>2020-01-05 03:42:16+00:00</td>\n",
       "      <td>209.73.183.25</td>\n",
       "      <td>+</td>\n",
       "      <td>GET</td>\n",
       "      <td>/images/mlopen_post.html</td>\n",
       "      <td>{'rtr': 'on', 'siteid': '2010000698', 'mid': '...</td>\n",
       "      <td>200</td>\n",
       "      <td>42</td>\n",
       "      <td>-</td>\n",
       "      <td>YahooMailProxy; https://help.yahoo.com/kb/yaho...</td>\n",
       "      <td>...</td>\n",
       "      <td>open</td>\n",
       "      <td>2010000698</td>\n",
       "      <td>5985220</td>\n",
       "      <td>365247</td>\n",
       "      <td>8f540717cf</td>\n",
       "      <td>26101</td>\n",
       "      <td>209.73.180.0/22</td>\n",
       "      <td>YAHOO-3, US</td>\n",
       "      <td>elabs10</td>\n",
       "      <td>elabs105985220</td>\n",
       "    </tr>\n",
       "    <tr>\n",
       "      <th>20</th>\n",
       "      <td>2020-01-05 03:42:17+00:00</td>\n",
       "      <td>66.249.84.56</td>\n",
       "      <td>+</td>\n",
       "      <td>GET</td>\n",
       "      <td>/images/mlopen_post.html</td>\n",
       "      <td>{'rtr': 'on', 'siteid': '2010003189', 'mid': '...</td>\n",
       "      <td>200</td>\n",
       "      <td>42</td>\n",
       "      <td>-</td>\n",
       "      <td>Mozilla/5.0 (Windows NT 5.1; rv:11.0) Gecko Fi...</td>\n",
       "      <td>...</td>\n",
       "      <td>open</td>\n",
       "      <td>2010003189</td>\n",
       "      <td>5935138</td>\n",
       "      <td>323385</td>\n",
       "      <td>aafd4b9735</td>\n",
       "      <td>15169</td>\n",
       "      <td>66.249.84.0/23</td>\n",
       "      <td>GOOGLE, US</td>\n",
       "      <td>elabs10</td>\n",
       "      <td>elabs105935138</td>\n",
       "    </tr>\n",
       "    <tr>\n",
       "      <th>31</th>\n",
       "      <td>2020-01-05 03:42:36+00:00</td>\n",
       "      <td>172.56.20.104</td>\n",
       "      <td>+</td>\n",
       "      <td>GET</td>\n",
       "      <td>/c.html</td>\n",
       "      <td>{'ufl': '1', 'rtr': 'on', 's': 'x8pbpz,344ep,8...</td>\n",
       "      <td>302</td>\n",
       "      <td>26</td>\n",
       "      <td>-</td>\n",
       "      <td>Mozilla/5.0 (Linux; Android 8.1.0; LM-Q710(FGN...</td>\n",
       "      <td>...</td>\n",
       "      <td>click_html</td>\n",
       "      <td>2010002327</td>\n",
       "      <td>5231185</td>\n",
       "      <td>407154</td>\n",
       "      <td>1ccb663e58</td>\n",
       "      <td>21928</td>\n",
       "      <td>172.56.20.0/23</td>\n",
       "      <td>T-MOBILE-AS21928, US</td>\n",
       "      <td>elabs10</td>\n",
       "      <td>elabs105231185</td>\n",
       "    </tr>\n",
       "    <tr>\n",
       "      <th>34</th>\n",
       "      <td>2020-01-05 03:42:41+00:00</td>\n",
       "      <td>172.219.32.58</td>\n",
       "      <td>+</td>\n",
       "      <td>GET</td>\n",
       "      <td>/images/mlopen_post.html</td>\n",
       "      <td>{'rtr': 'on', 'siteid': '2010000698', 'mid': '...</td>\n",
       "      <td>200</td>\n",
       "      <td>42</td>\n",
       "      <td>-</td>\n",
       "      <td>Mozilla/5.0 (Macintosh; Intel Mac OS X 10_14_6...</td>\n",
       "      <td>...</td>\n",
       "      <td>open</td>\n",
       "      <td>2010000698</td>\n",
       "      <td>5967275</td>\n",
       "      <td>459998</td>\n",
       "      <td>90771b26e1</td>\n",
       "      <td>852</td>\n",
       "      <td>172.219.0.0/16</td>\n",
       "      <td>ASN852, CA</td>\n",
       "      <td>elabs10</td>\n",
       "      <td>elabs105967275</td>\n",
       "    </tr>\n",
       "    <tr>\n",
       "      <th>40</th>\n",
       "      <td>2020-01-05 03:42:54+00:00</td>\n",
       "      <td>66.249.81.28</td>\n",
       "      <td>+</td>\n",
       "      <td>GET</td>\n",
       "      <td>/images/mlopen_post.html</td>\n",
       "      <td>{'rtr': 'on', 'siteid': '2010002327', 'mid': '...</td>\n",
       "      <td>200</td>\n",
       "      <td>42</td>\n",
       "      <td>-</td>\n",
       "      <td>Mozilla/5.0 (Windows NT 5.1; rv:11.0) Gecko Fi...</td>\n",
       "      <td>...</td>\n",
       "      <td>open</td>\n",
       "      <td>2010002327</td>\n",
       "      <td>5286515</td>\n",
       "      <td>215864</td>\n",
       "      <td>3a08801d81</td>\n",
       "      <td>15169</td>\n",
       "      <td>66.249.80.0/22</td>\n",
       "      <td>GOOGLE, US</td>\n",
       "      <td>elabs10</td>\n",
       "      <td>elabs105286515</td>\n",
       "    </tr>\n",
       "  </tbody>\n",
       "</table>\n",
       "<p>5 rows × 26 columns</p>\n",
       "</div>"
      ],
      "text/plain": [
       "                   request_time      remote_ip conn_status request_method  \\\n",
       "index                                                                       \n",
       "16    2020-01-05 03:42:16+00:00  209.73.183.25           +            GET   \n",
       "20    2020-01-05 03:42:17+00:00   66.249.84.56           +            GET   \n",
       "31    2020-01-05 03:42:36+00:00  172.56.20.104           +            GET   \n",
       "34    2020-01-05 03:42:41+00:00  172.219.32.58           +            GET   \n",
       "40    2020-01-05 03:42:54+00:00   66.249.81.28           +            GET   \n",
       "\n",
       "               request_url_path  \\\n",
       "index                             \n",
       "16     /images/mlopen_post.html   \n",
       "20     /images/mlopen_post.html   \n",
       "31                      /c.html   \n",
       "34     /images/mlopen_post.html   \n",
       "40     /images/mlopen_post.html   \n",
       "\n",
       "                           request_url_query_simple_dict status  \\\n",
       "index                                                             \n",
       "16     {'rtr': 'on', 'siteid': '2010000698', 'mid': '...    200   \n",
       "20     {'rtr': 'on', 'siteid': '2010003189', 'mid': '...    200   \n",
       "31     {'ufl': '1', 'rtr': 'on', 's': 'x8pbpz,344ep,8...    302   \n",
       "34     {'rtr': 'on', 'siteid': '2010000698', 'mid': '...    200   \n",
       "40     {'rtr': 'on', 'siteid': '2010002327', 'mid': '...    200   \n",
       "\n",
       "      response_bytes_clf request_header_referer  \\\n",
       "index                                             \n",
       "16                    42                      -   \n",
       "20                    42                      -   \n",
       "31                    26                      -   \n",
       "34                    42                      -   \n",
       "40                    42                      -   \n",
       "\n",
       "                               request_header_user_agent  ... el_request_type  \\\n",
       "index                                                     ...                   \n",
       "16     YahooMailProxy; https://help.yahoo.com/kb/yaho...  ...            open   \n",
       "20     Mozilla/5.0 (Windows NT 5.1; rv:11.0) Gecko Fi...  ...            open   \n",
       "31     Mozilla/5.0 (Linux; Android 8.1.0; LM-Q710(FGN...  ...      click_html   \n",
       "34     Mozilla/5.0 (Macintosh; Intel Mac OS X 10_14_6...  ...            open   \n",
       "40     Mozilla/5.0 (Windows NT 5.1; rv:11.0) Gecko Fi...  ...            open   \n",
       "\n",
       "              sid      mid    mlid        ruid    asn         netblock  \\\n",
       "index                                                                    \n",
       "16     2010000698  5985220  365247  8f540717cf  26101  209.73.180.0/22   \n",
       "20     2010003189  5935138  323385  aafd4b9735  15169   66.249.84.0/23   \n",
       "31     2010002327  5231185  407154  1ccb663e58  21928   172.56.20.0/23   \n",
       "34     2010000698  5967275  459998  90771b26e1    852   172.219.0.0/16   \n",
       "40     2010002327  5286515  215864  3a08801d81  15169   66.249.80.0/22   \n",
       "\n",
       "                     as_org     farm        farm_mid  \n",
       "index                                                 \n",
       "16              YAHOO-3, US  elabs10  elabs105985220  \n",
       "20               GOOGLE, US  elabs10  elabs105935138  \n",
       "31     T-MOBILE-AS21928, US  elabs10  elabs105231185  \n",
       "34               ASN852, CA  elabs10  elabs105967275  \n",
       "40               GOOGLE, US  elabs10  elabs105286515  \n",
       "\n",
       "[5 rows x 26 columns]"
      ]
     },
     "execution_count": 30,
     "metadata": {},
     "output_type": "execute_result"
    }
   ],
   "source": [
    "df.head()"
   ]
  },
  {
   "cell_type": "code",
   "execution_count": 29,
   "metadata": {},
   "outputs": [
    {
     "name": "stdout",
     "output_type": "stream",
     "text": [
      "<class 'pandas.core.frame.DataFrame'>\n",
      "Int64Index: 259845 entries, 16 to 332147\n",
      "Data columns (total 26 columns):\n",
      "request_time                                          259845 non-null datetime64[ns, UTC]\n",
      "remote_ip                                             259845 non-null object\n",
      "conn_status                                           259845 non-null object\n",
      "request_method                                        259845 non-null object\n",
      "request_url_path                                      259845 non-null object\n",
      "request_url_query_simple_dict                         259845 non-null object\n",
      "status                                                259845 non-null object\n",
      "response_bytes_clf                                    259845 non-null object\n",
      "request_header_referer                                259845 non-null object\n",
      "request_header_user_agent                             259845 non-null object\n",
      "request_header_user_agent__browser__family            259845 non-null object\n",
      "request_header_user_agent__browser__version_string    259845 non-null object\n",
      "request_header_user_agent__os__family                 259845 non-null object\n",
      "request_header_user_agent__os__version_string         259845 non-null object\n",
      "request_header_user_agent__is_mobile                  259845 non-null bool\n",
      "ip_slash24                                            259845 non-null object\n",
      "el_request_type                                       259845 non-null object\n",
      "sid                                                   259845 non-null int64\n",
      "mid                                                   259845 non-null int32\n",
      "mlid                                                  259845 non-null int32\n",
      "ruid                                                  241923 non-null object\n",
      "asn                                                   259845 non-null int32\n",
      "netblock                                              259845 non-null object\n",
      "as_org                                                259845 non-null object\n",
      "farm                                                  259845 non-null object\n",
      "farm_mid                                              259845 non-null object\n",
      "dtypes: bool(1), datetime64[ns, UTC](1), int32(3), int64(1), object(20)\n",
      "memory usage: 48.8+ MB\n"
     ]
    }
   ],
   "source": [
    "df['farm_mid'] = df['farm'] + \"_\" + df['mid'].astype(str)\n",
    "df.info()"
   ]
  },
  {
   "cell_type": "code",
   "execution_count": 268,
   "metadata": {},
   "outputs": [],
   "source": [
    "#dtest = df.head(1000).copy()"
   ]
  },
  {
   "cell_type": "code",
   "execution_count": 20,
   "metadata": {},
   "outputs": [],
   "source": [
    "for i in ['sid', 'mid', 'mlid', 'ruid']:\n",
    "    if i not in df.columns:\n",
    "        # Parse out EL details\n",
    "        p.estimate(df.shape[0])\n",
    "        %time df[dcols] = p.parse_df(df[['el_request_type', 'request_url_query_simple_dict']])"
   ]
  },
  {
   "cell_type": "code",
   "execution_count": 22,
   "metadata": {},
   "outputs": [],
   "source": [
    "# Get ASN / netblock info from the IP\n",
    "asn_cols = ['asn', 'netblock', 'as_org']\n",
    "for i in asn_cols:\n",
    "    if i not in df.columns:\n",
    "        df[asn_cols] = pd.DataFrame(df['remote_ip'].apply(asndb.get_asn_details).tolist(), index=df.index)"
   ]
  },
  {
   "cell_type": "code",
   "execution_count": 23,
   "metadata": {},
   "outputs": [
    {
     "name": "stdout",
     "output_type": "stream",
     "text": [
      "<class 'pandas.core.frame.DataFrame'>\n",
      "Int64Index: 1537572 entries, 16 to 269777\n",
      "Data columns (total 24 columns):\n",
      "request_time                                          1537572 non-null datetime64[ns, UTC]\n",
      "remote_ip                                             1537572 non-null object\n",
      "conn_status                                           1537572 non-null object\n",
      "request_header_host                                   1537572 non-null object\n",
      "request_method                                        1537572 non-null object\n",
      "request_url_path                                      1537572 non-null object\n",
      "request_url_query_simple_dict                         1537572 non-null object\n",
      "status                                                1537572 non-null object\n",
      "response_bytes_clf                                    1537572 non-null object\n",
      "request_header_referer                                1537572 non-null object\n",
      "request_header_user_agent                             1537572 non-null object\n",
      "request_header_user_agent__browser__family            1537572 non-null object\n",
      "request_header_user_agent__browser__version_string    1537572 non-null object\n",
      "request_header_user_agent__os__family                 1537572 non-null object\n",
      "request_header_user_agent__os__version_string         1537572 non-null object\n",
      "request_header_user_agent__is_mobile                  1537572 non-null bool\n",
      "el_request_type                                       1537572 non-null object\n",
      "sid                                                   1537572 non-null int64\n",
      "mid                                                   1537572 non-null int32\n",
      "mlid                                                  1537572 non-null int32\n",
      "ruid                                                  1310684 non-null object\n",
      "asn                                                   1537572 non-null int32\n",
      "netblock                                              1537572 non-null object\n",
      "as_org                                                1537572 non-null object\n",
      "dtypes: bool(1), datetime64[ns, UTC](1), int32(3), int64(1), object(18)\n",
      "memory usage: 265.4+ MB\n"
     ]
    }
   ],
   "source": [
    "df.info()"
   ]
  },
  {
   "cell_type": "code",
   "execution_count": 311,
   "metadata": {},
   "outputs": [
    {
     "data": {
      "text/plain": [
       "(21928, '172.56.20.0/23', 'T-MOBILE-AS21928, US')"
      ]
     },
     "execution_count": 311,
     "metadata": {},
     "output_type": "execute_result"
    }
   ],
   "source": [
    "asndb = asnLookup()\n",
    "asndb.get_asn_details('172.56.20.104')"
   ]
  },
  {
   "cell_type": "code",
   "execution_count": null,
   "metadata": {},
   "outputs": [],
   "source": []
  },
  {
   "cell_type": "code",
   "execution_count": 43,
   "metadata": {},
   "outputs": [
    {
     "data": {
      "text/plain": [
       "Mozilla/5.0 (X11; Linux x86_64) AppleWebKit/537.36 (KHTML, like Gecko)                                           29041\n",
       "Mozilla/5.0 (Windows NT 5.1; rv:11.0) Gecko Firefox/11.0 (via ggpht.com GoogleImageProxy)                        21183\n",
       "Mozilla/5.0 (iPhone; CPU iPhone OS 13_3 like Mac OS X) AppleWebKit/605.1.15 (KHTML, like Gecko) Mobile/15E148    17542\n",
       "YahooMailProxy; https://help.yahoo.com/kb/yahoo-mail-proxy-SLN28749.html                                          6855\n",
       "Mozilla/5.0 (Macintosh; Intel Mac OS X 10_15) AppleWebKit/605.1.15 (KHTML, like Gecko)                            3602\n",
       "Name: request_header_user_agent, dtype: int64"
      ]
     },
     "execution_count": 43,
     "metadata": {},
     "output_type": "execute_result"
    }
   ],
   "source": [
    "df.request_header_user_agent.value_counts().head(5)"
   ]
  },
  {
   "cell_type": "code",
   "execution_count": 42,
   "metadata": {},
   "outputs": [
    {
     "data": {
      "text/plain": [
       "Other                         40944\n",
       "Mobile Safari UI/WKWebView    24779\n",
       "GmailImageProxy               21183\n",
       "Apple Mail                    10281\n",
       "Chrome                         9005\n",
       "Outlook                        8131\n",
       "IE                             7011\n",
       "Name: request_header_user_agent__browser__family, dtype: int64"
      ]
     },
     "execution_count": 42,
     "metadata": {},
     "output_type": "execute_result"
    }
   ],
   "source": [
    "df.request_header_user_agent__browser__family.value_counts().head(7)"
   ]
  },
  {
   "cell_type": "code",
   "execution_count": 21,
   "metadata": {},
   "outputs": [
    {
     "data": {
      "text/plain": [
       "open               152611\n",
       "click_html          21677\n",
       "unknown             10222\n",
       "click_text           5056\n",
       "unsubscribe          1192\n",
       "unsub_conf_page       761\n",
       "image                   6\n",
       "Name: el_request_type, dtype: int64"
      ]
     },
     "execution_count": 21,
     "metadata": {},
     "output_type": "execute_result"
    }
   ],
   "source": [
    "df.el_request_type.value_counts()"
   ]
  },
  {
   "cell_type": "code",
   "execution_count": null,
   "metadata": {},
   "outputs": [],
   "source": []
  },
  {
   "cell_type": "code",
   "execution_count": 29,
   "metadata": {},
   "outputs": [],
   "source": [
    "top_ips = df.remote_ip.value_counts().head(500)\n",
    "# value_counts to df:\n",
    "top_ips = top_ips.rename_axis('remote_ip').reset_index(name='count')"
   ]
  },
  {
   "cell_type": "code",
   "execution_count": 69,
   "metadata": {},
   "outputs": [],
   "source": [
    "def df_counts(df, column, head=None):\n",
    "    # returns a df of value_counts of the column.\n",
    "    col = str(column)\n",
    "    if head:\n",
    "        top_values = df[column].value_counts().head(head)\n",
    "    else:\n",
    "        top_values = df[column].value_counts()\n",
    "        \n",
    "    colname = col + \"_count\"\n",
    "    top_values = top_values.rename_axis(column).reset_index(name=colname)\n",
    "    top_values[column] = top_values[column].astype('int32')\n",
    "    return top_values"
   ]
  },
  {
   "cell_type": "code",
   "execution_count": 328,
   "metadata": {},
   "outputs": [
    {
     "name": "stdout",
     "output_type": "stream",
     "text": [
      "CPU times: user 943 ms, sys: 0 ns, total: 943 ms\n",
      "Wall time: 942 ms\n"
     ]
    }
   ],
   "source": [
    "%time df[['asn', 'netblock', 'as_org']] = pd.DataFrame(df['remote_ip'].apply(asndb.get_asn_details).tolist(), index=df.index)\n",
    "df['asn'] = df['asn'].astype('int32')"
   ]
  },
  {
   "cell_type": "code",
   "execution_count": 329,
   "metadata": {},
   "outputs": [
    {
     "data": {
      "text/plain": [
       "GOOGLE, US                         32875\n",
       "MAILRU-AS Mail.Ru, RU              29371\n",
       "COMCAST-7922, US                   11407\n",
       "AMAZON-02, US                       8663\n",
       "MICROSOFT-CORP-MSN-AS-BLOCK, US     3867\n",
       "ATT-INTERNET4, US                   3614\n",
       "BACOM, CA                           3150\n",
       "CELLCO, US                          3049\n",
       "ATT-MOBILITY-LLC-AS20057, US        2695\n",
       "BELGACOM-SKYNET-AS, BE              2562\n",
       "ASN852, CA                          2542\n",
       "INKTOMI-LAWSON, US                  2484\n",
       "ROGERS-COMMUNICATIONS, CA           2239\n",
       "UUNET, US                           2033\n",
       "SHAW, CA                            1989\n",
       "Name: as_org, dtype: int64"
      ]
     },
     "execution_count": 329,
     "metadata": {},
     "output_type": "execute_result"
    }
   ],
   "source": [
    "df.as_org.value_counts().head(15)"
   ]
  },
  {
   "cell_type": "code",
   "execution_count": 22,
   "metadata": {},
   "outputs": [
    {
     "data": {
      "text/html": [
       "<div>\n",
       "<style scoped>\n",
       "    .dataframe tbody tr th:only-of-type {\n",
       "        vertical-align: middle;\n",
       "    }\n",
       "\n",
       "    .dataframe tbody tr th {\n",
       "        vertical-align: top;\n",
       "    }\n",
       "\n",
       "    .dataframe thead th {\n",
       "        text-align: right;\n",
       "    }\n",
       "</style>\n",
       "<table border=\"1\" class=\"dataframe\">\n",
       "  <thead>\n",
       "    <tr style=\"text-align: right;\">\n",
       "      <th></th>\n",
       "      <th>time_received_utc_datetimeobj</th>\n",
       "      <th>remote_ip</th>\n",
       "      <th>conn_status</th>\n",
       "      <th>request_header_host</th>\n",
       "      <th>request_method</th>\n",
       "      <th>request_url_path</th>\n",
       "      <th>request_url_query_simple_dict</th>\n",
       "      <th>status</th>\n",
       "      <th>response_bytes_clf</th>\n",
       "      <th>request_header_referer</th>\n",
       "      <th>...</th>\n",
       "      <th>request_header_user_agent__browser__family</th>\n",
       "      <th>request_header_user_agent__browser__version_string</th>\n",
       "      <th>request_header_user_agent__os__family</th>\n",
       "      <th>request_header_user_agent__os__version_string</th>\n",
       "      <th>request_header_user_agent__is_mobile</th>\n",
       "      <th>ip_slash24</th>\n",
       "      <th>el_request_type</th>\n",
       "      <th>asn</th>\n",
       "      <th>netblock</th>\n",
       "      <th>as_org</th>\n",
       "    </tr>\n",
       "    <tr>\n",
       "      <th>index</th>\n",
       "      <th></th>\n",
       "      <th></th>\n",
       "      <th></th>\n",
       "      <th></th>\n",
       "      <th></th>\n",
       "      <th></th>\n",
       "      <th></th>\n",
       "      <th></th>\n",
       "      <th></th>\n",
       "      <th></th>\n",
       "      <th></th>\n",
       "      <th></th>\n",
       "      <th></th>\n",
       "      <th></th>\n",
       "      <th></th>\n",
       "      <th></th>\n",
       "      <th></th>\n",
       "      <th></th>\n",
       "      <th></th>\n",
       "      <th></th>\n",
       "      <th></th>\n",
       "    </tr>\n",
       "  </thead>\n",
       "  <tbody>\n",
       "    <tr>\n",
       "      <th>16</th>\n",
       "      <td>2020-01-05 03:42:16+00:00</td>\n",
       "      <td>209.73.183.25</td>\n",
       "      <td>+</td>\n",
       "      <td>www.elabs10.com</td>\n",
       "      <td>GET</td>\n",
       "      <td>/images/mlopen_post.html</td>\n",
       "      <td>{'rtr': 'on', 'siteid': '2010000698', 'mid': '...</td>\n",
       "      <td>200</td>\n",
       "      <td>42</td>\n",
       "      <td>-</td>\n",
       "      <td>...</td>\n",
       "      <td>Other</td>\n",
       "      <td></td>\n",
       "      <td>Other</td>\n",
       "      <td></td>\n",
       "      <td>False</td>\n",
       "      <td>209.73.183.0</td>\n",
       "      <td>open</td>\n",
       "      <td>26101</td>\n",
       "      <td>209.73.180.0/22</td>\n",
       "      <td>YAHOO-3, US</td>\n",
       "    </tr>\n",
       "    <tr>\n",
       "      <th>20</th>\n",
       "      <td>2020-01-05 03:42:17+00:00</td>\n",
       "      <td>66.249.84.56</td>\n",
       "      <td>+</td>\n",
       "      <td>click.crewardsmailing.com</td>\n",
       "      <td>GET</td>\n",
       "      <td>/images/mlopen_post.html</td>\n",
       "      <td>{'rtr': 'on', 'siteid': '2010003189', 'mid': '...</td>\n",
       "      <td>200</td>\n",
       "      <td>42</td>\n",
       "      <td>-</td>\n",
       "      <td>...</td>\n",
       "      <td>GmailImageProxy</td>\n",
       "      <td></td>\n",
       "      <td>Windows</td>\n",
       "      <td>XP</td>\n",
       "      <td>False</td>\n",
       "      <td>66.249.84.0</td>\n",
       "      <td>open</td>\n",
       "      <td>15169</td>\n",
       "      <td>66.249.84.0/23</td>\n",
       "      <td>GOOGLE, US</td>\n",
       "    </tr>\n",
       "    <tr>\n",
       "      <th>31</th>\n",
       "      <td>2020-01-05 03:42:36+00:00</td>\n",
       "      <td>172.56.20.104</td>\n",
       "      <td>+</td>\n",
       "      <td>www.elabs10.com</td>\n",
       "      <td>GET</td>\n",
       "      <td>/c.html</td>\n",
       "      <td>{'ufl': '1', 'rtr': 'on', 's': 'x8pbpz,344ep,8...</td>\n",
       "      <td>302</td>\n",
       "      <td>26</td>\n",
       "      <td>-</td>\n",
       "      <td>...</td>\n",
       "      <td>Chrome Mobile</td>\n",
       "      <td>79.0.3945</td>\n",
       "      <td>Android</td>\n",
       "      <td>8.1.0</td>\n",
       "      <td>True</td>\n",
       "      <td>172.56.20.0</td>\n",
       "      <td>click_html</td>\n",
       "      <td>21928</td>\n",
       "      <td>172.56.20.0/23</td>\n",
       "      <td>T-MOBILE-AS21928, US</td>\n",
       "    </tr>\n",
       "    <tr>\n",
       "      <th>34</th>\n",
       "      <td>2020-01-05 03:42:41+00:00</td>\n",
       "      <td>172.219.32.58</td>\n",
       "      <td>+</td>\n",
       "      <td>www.elabs10.com</td>\n",
       "      <td>GET</td>\n",
       "      <td>/images/mlopen_post.html</td>\n",
       "      <td>{'rtr': 'on', 'siteid': '2010000698', 'mid': '...</td>\n",
       "      <td>200</td>\n",
       "      <td>42</td>\n",
       "      <td>-</td>\n",
       "      <td>...</td>\n",
       "      <td>Apple Mail</td>\n",
       "      <td>605.1.15</td>\n",
       "      <td>Mac OS X</td>\n",
       "      <td>10.14.6</td>\n",
       "      <td>False</td>\n",
       "      <td>172.219.32.0</td>\n",
       "      <td>open</td>\n",
       "      <td>852</td>\n",
       "      <td>172.219.0.0/16</td>\n",
       "      <td>ASN852, CA</td>\n",
       "    </tr>\n",
       "    <tr>\n",
       "      <th>40</th>\n",
       "      <td>2020-01-05 03:42:54+00:00</td>\n",
       "      <td>66.249.81.28</td>\n",
       "      <td>+</td>\n",
       "      <td>click.rewardsdealmail.com</td>\n",
       "      <td>GET</td>\n",
       "      <td>/images/mlopen_post.html</td>\n",
       "      <td>{'rtr': 'on', 'siteid': '2010002327', 'mid': '...</td>\n",
       "      <td>200</td>\n",
       "      <td>42</td>\n",
       "      <td>-</td>\n",
       "      <td>...</td>\n",
       "      <td>GmailImageProxy</td>\n",
       "      <td></td>\n",
       "      <td>Windows</td>\n",
       "      <td>XP</td>\n",
       "      <td>False</td>\n",
       "      <td>66.249.81.0</td>\n",
       "      <td>open</td>\n",
       "      <td>15169</td>\n",
       "      <td>66.249.80.0/22</td>\n",
       "      <td>GOOGLE, US</td>\n",
       "    </tr>\n",
       "  </tbody>\n",
       "</table>\n",
       "<p>5 rows × 21 columns</p>\n",
       "</div>"
      ],
      "text/plain": [
       "      time_received_utc_datetimeobj      remote_ip conn_status  \\\n",
       "index                                                            \n",
       "16        2020-01-05 03:42:16+00:00  209.73.183.25           +   \n",
       "20        2020-01-05 03:42:17+00:00   66.249.84.56           +   \n",
       "31        2020-01-05 03:42:36+00:00  172.56.20.104           +   \n",
       "34        2020-01-05 03:42:41+00:00  172.219.32.58           +   \n",
       "40        2020-01-05 03:42:54+00:00   66.249.81.28           +   \n",
       "\n",
       "             request_header_host request_method          request_url_path  \\\n",
       "index                                                                       \n",
       "16               www.elabs10.com            GET  /images/mlopen_post.html   \n",
       "20     click.crewardsmailing.com            GET  /images/mlopen_post.html   \n",
       "31               www.elabs10.com            GET                   /c.html   \n",
       "34               www.elabs10.com            GET  /images/mlopen_post.html   \n",
       "40     click.rewardsdealmail.com            GET  /images/mlopen_post.html   \n",
       "\n",
       "                           request_url_query_simple_dict status  \\\n",
       "index                                                             \n",
       "16     {'rtr': 'on', 'siteid': '2010000698', 'mid': '...    200   \n",
       "20     {'rtr': 'on', 'siteid': '2010003189', 'mid': '...    200   \n",
       "31     {'ufl': '1', 'rtr': 'on', 's': 'x8pbpz,344ep,8...    302   \n",
       "34     {'rtr': 'on', 'siteid': '2010000698', 'mid': '...    200   \n",
       "40     {'rtr': 'on', 'siteid': '2010002327', 'mid': '...    200   \n",
       "\n",
       "      response_bytes_clf request_header_referer  ...  \\\n",
       "index                                            ...   \n",
       "16                    42                      -  ...   \n",
       "20                    42                      -  ...   \n",
       "31                    26                      -  ...   \n",
       "34                    42                      -  ...   \n",
       "40                    42                      -  ...   \n",
       "\n",
       "      request_header_user_agent__browser__family  \\\n",
       "index                                              \n",
       "16                                         Other   \n",
       "20                               GmailImageProxy   \n",
       "31                                 Chrome Mobile   \n",
       "34                                    Apple Mail   \n",
       "40                               GmailImageProxy   \n",
       "\n",
       "      request_header_user_agent__browser__version_string  \\\n",
       "index                                                      \n",
       "16                                                         \n",
       "20                                                         \n",
       "31                                             79.0.3945   \n",
       "34                                              605.1.15   \n",
       "40                                                         \n",
       "\n",
       "      request_header_user_agent__os__family  \\\n",
       "index                                         \n",
       "16                                    Other   \n",
       "20                                  Windows   \n",
       "31                                  Android   \n",
       "34                                 Mac OS X   \n",
       "40                                  Windows   \n",
       "\n",
       "      request_header_user_agent__os__version_string  \\\n",
       "index                                                 \n",
       "16                                                    \n",
       "20                                               XP   \n",
       "31                                            8.1.0   \n",
       "34                                          10.14.6   \n",
       "40                                               XP   \n",
       "\n",
       "      request_header_user_agent__is_mobile    ip_slash24 el_request_type  \\\n",
       "index                                                                      \n",
       "16                                   False  209.73.183.0            open   \n",
       "20                                   False   66.249.84.0            open   \n",
       "31                                    True   172.56.20.0      click_html   \n",
       "34                                   False  172.219.32.0            open   \n",
       "40                                   False   66.249.81.0            open   \n",
       "\n",
       "         asn         netblock                as_org  \n",
       "index                                                \n",
       "16     26101  209.73.180.0/22           YAHOO-3, US  \n",
       "20     15169   66.249.84.0/23            GOOGLE, US  \n",
       "31     21928   172.56.20.0/23  T-MOBILE-AS21928, US  \n",
       "34       852   172.219.0.0/16            ASN852, CA  \n",
       "40     15169   66.249.80.0/22            GOOGLE, US  \n",
       "\n",
       "[5 rows x 21 columns]"
      ]
     },
     "execution_count": 22,
     "metadata": {},
     "output_type": "execute_result"
    }
   ],
   "source": [
    "df.head()"
   ]
  },
  {
   "cell_type": "code",
   "execution_count": 23,
   "metadata": {},
   "outputs": [
    {
     "data": {
      "text/plain": [
       "188.93.56.0/21     62721\n",
       "209.222.82.0/24    49788\n",
       "74.125.0.0/16      45611\n",
       "64.233.172.0/23    40571\n",
       "66.102.8.0/23      33378\n",
       "Name: netblock, dtype: int64"
      ]
     },
     "execution_count": 23,
     "metadata": {},
     "output_type": "execute_result"
    }
   ],
   "source": [
    "df.netblock.value_counts().head()"
   ]
  },
  {
   "cell_type": "code",
   "execution_count": 24,
   "metadata": {},
   "outputs": [],
   "source": [
    "n_by_netblock = pd.DataFrame(df.groupby([\"netblock\", \"as_org\", \"asn\"])[\"netblock\"].count())"
   ]
  },
  {
   "cell_type": "code",
   "execution_count": null,
   "metadata": {},
   "outputs": [],
   "source": []
  },
  {
   "cell_type": "code",
   "execution_count": 25,
   "metadata": {},
   "outputs": [],
   "source": [
    "n_by_netblock = n_by_netblock.rename(columns={\"netblock\":\"netblock_count\"})\n",
    "\n",
    "# Groupby convers the grouped columns to the index, so we reset them to regular columns.\n",
    "n_by_netblock = n_by_netblock.sort_values('netblock_count', axis='index', ascending=False).reset_index()"
   ]
  },
  {
   "cell_type": "code",
   "execution_count": null,
   "metadata": {},
   "outputs": [],
   "source": []
  },
  {
   "cell_type": "code",
   "execution_count": null,
   "metadata": {},
   "outputs": [],
   "source": [
    "def value_counts_multi(df, group_column, return_columns):\n",
    "    # Returns a new df, grouped by specified columns, returning return_columns, sorted by count descending.\n",
    "    # return_columns should be a list.\n",
    "    \n",
    "    df1 = pd.DataFrame(df.groupby(return_columns)[group_column].count())\n",
    "    df1 = df1.rename(columns={group_column:\"netblock_count\"})\n",
    "    \n",
    "    \n",
    "    "
   ]
  },
  {
   "cell_type": "code",
   "execution_count": 37,
   "metadata": {},
   "outputs": [
    {
     "name": "stdout",
     "output_type": "stream",
     "text": [
      "(200235, 24)\n"
     ]
    }
   ],
   "source": [
    "cdf = df.query('(el_request_type == \"click_html\" or el_request_type == \"click_text\") and mid > 0').copy()\n",
    "\n",
    "print(cdf.shape)\n",
    "\n",
    "test = 0\n",
    "\n",
    "if test:\n",
    "    cdf = cdf.head(5000).copy()"
   ]
  },
  {
   "cell_type": "code",
   "execution_count": 25,
   "metadata": {},
   "outputs": [
    {
     "ename": "NameError",
     "evalue": "name 'cdf' is not defined",
     "output_type": "error",
     "traceback": [
      "\u001b[0;31m---------------------------------------------------------------------------\u001b[0m",
      "\u001b[0;31mNameError\u001b[0m                                 Traceback (most recent call last)",
      "\u001b[0;32m<ipython-input-25-441553a0ae0d>\u001b[0m in \u001b[0;36m<module>\u001b[0;34m\u001b[0m\n\u001b[0;32m----> 1\u001b[0;31m \u001b[0mcdf\u001b[0m\u001b[0;34m.\u001b[0m\u001b[0minfo\u001b[0m\u001b[0;34m(\u001b[0m\u001b[0;34m)\u001b[0m\u001b[0;34m\u001b[0m\u001b[0;34m\u001b[0m\u001b[0m\n\u001b[0m",
      "\u001b[0;31mNameError\u001b[0m: name 'cdf' is not defined"
     ]
    }
   ],
   "source": [
    "cdf.info()"
   ]
  },
  {
   "cell_type": "code",
   "execution_count": 39,
   "metadata": {},
   "outputs": [
    {
     "data": {
      "text/plain": [
       "169.61.122.229    5139\n",
       "65.154.226.220    4921\n",
       "65.154.226.100    3562\n",
       "65.155.30.101     2545\n",
       "65.154.226.109    1601\n",
       "209.222.82.140    1572\n",
       "209.222.82.137    1546\n",
       "209.222.82.167    1491\n",
       "209.222.82.164    1488\n",
       "209.222.82.146    1481\n",
       "Name: remote_ip, dtype: int64"
      ]
     },
     "execution_count": 39,
     "metadata": {},
     "output_type": "execute_result"
    }
   ],
   "source": [
    "# Let's just get the top 10 IPs that are clicking.\n",
    "cdf['remote_ip'].value_counts().head(10)"
   ]
  },
  {
   "cell_type": "code",
   "execution_count": 40,
   "metadata": {},
   "outputs": [],
   "source": [
    "# We can write a function to let us do this more easily for other fields.\n",
    "def is_in_top_x(series, x):\n",
    "    # Returns a series: True if the item is in the most common x values, otherwise False.\n",
    "    topx_values = series.value_counts().head(x).index.tolist()\n",
    "    return series.isin(topx_values)"
   ]
  },
  {
   "cell_type": "code",
   "execution_count": 41,
   "metadata": {},
   "outputs": [],
   "source": [
    "# Set a column in the original DF using this function.\n",
    "cdf['in_top10_ips'] = is_in_top_x(cdf['remote_ip'], 10)"
   ]
  },
  {
   "cell_type": "code",
   "execution_count": 42,
   "metadata": {},
   "outputs": [
    {
     "data": {
      "text/plain": [
       "False    174889\n",
       "True      25346\n",
       "Name: in_top10_ips, dtype: int64"
      ]
     },
     "execution_count": 42,
     "metadata": {},
     "output_type": "execute_result"
    }
   ],
   "source": [
    "# We can see how many are/are not within the top 10:\n",
    "cdf['in_top10_ips'].value_counts()"
   ]
  },
  {
   "cell_type": "code",
   "execution_count": 43,
   "metadata": {},
   "outputs": [
    {
     "data": {
      "text/plain": [
       "Mozilla/4.0 (compatible; MSIE 8.0; Windows NT 6.1; Trident/4.0)                                                                                                                                   34929\n",
       "Mozilla/4.0 (compatible; MSIE 8.0; Windows NT 6.1; WOW64; Trident/4.0; SLCC2; .NET CLR 2.0.50727; .NET CLR 3.5.30729; .NET CLR 3.0.30729)                                                         21214\n",
       "Mozilla/5.0 (iPhone; CPU iPhone OS 13_3 like Mac OS X) AppleWebKit/605.1.15 (KHTML, like Gecko) Version/13.0.4 Mobile/15E148 Safari/604.1                                                         16951\n",
       "Mozilla/5.0 (Windows NT 10.0; Win64; x64) AppleWebKit/537.36 (KHTML, like Gecko) Chrome/57.0.2987.133 Safari/537.36                                                                                5679\n",
       "Mozilla/5.0 (Windows NT 10.0; Win64; x64) AppleWebKit/537.36 (KHTML, like Gecko) Chrome/79.0.3945.88 Safari/537.36                                                                                 5573\n",
       "Mozilla/5.0 (Windows NT 6.1; Win64; x64) AppleWebKit/537.36 (KHTML, like Gecko) Chrome/72.0.3626.109 Safari/537.36                                                                                 5538\n",
       "Mozilla/5.0 (Windows NT 6.1; Win64; x64) AppleWebKit/537.36 (KHTML, like Gecko) Chrome/68.0.3440.106 Safari/537.36                                                                                 5456\n",
       "-                                                                                                                                                                                                  5196\n",
       "Mozilla/5.0 (Macintosh; Intel Mac OS X 10_11_6) AppleWebKit/537.36 (KHTML, like Gecko) Chrome/53.0.2785.143 Safari/537.36                                                                          4976\n",
       "Mozilla/4.0 (compatible; MSIE 8.0; Windows NT 6.1; WOW64; Trident/4.0; SLCC2; .NET CLR 2.0.50727; .NET CLR 3.5.30729; .NET CLR 3.0.30729; Media Center PC 6.0; .NET4.0C; .NET4.0E; InfoPath.2)     4898\n",
       "Name: request_header_user_agent, dtype: int64"
      ]
     },
     "execution_count": 43,
     "metadata": {},
     "output_type": "execute_result"
    }
   ],
   "source": [
    "# Let's look at the top 10 user-agents too.\n",
    "cdf['request_header_user_agent'].value_counts().head(10)"
   ]
  },
  {
   "cell_type": "code",
   "execution_count": 369,
   "metadata": {},
   "outputs": [],
   "source": [
    "cdf['in_top10_UAs'] = is_in_top_x(cdf['request_header_user_agent'], 10)"
   ]
  },
  {
   "cell_type": "code",
   "execution_count": 370,
   "metadata": {},
   "outputs": [
    {
     "data": {
      "text/plain": [
       "False    870\n",
       "True     630\n",
       "Name: in_top10_UAs, dtype: int64"
      ]
     },
     "execution_count": 370,
     "metadata": {},
     "output_type": "execute_result"
    }
   ],
   "source": [
    "cdf['in_top10_UAs'].value_counts()"
   ]
  },
  {
   "cell_type": "code",
   "execution_count": null,
   "metadata": {},
   "outputs": [],
   "source": [
    "cdf['farm_mid'] = cdf[]"
   ]
  },
  {
   "cell_type": "code",
   "execution_count": 44,
   "metadata": {},
   "outputs": [
    {
     "data": {
      "text/plain": [
       "count                          6609\n",
       "unique                         6548\n",
       "top       2019-12-30 15:30:12+00:00\n",
       "freq                              4\n",
       "first     2019-12-29 03:13:31+00:00\n",
       "last      2020-01-26 03:34:31+00:00\n",
       "Name: request_time, dtype: object"
      ]
     },
     "execution_count": 44,
     "metadata": {},
     "output_type": "execute_result"
    }
   ],
   "source": [
    "min_timestamp_per_message = cdf.groupby('mid')['request_time'].min()\n",
    "min_timestamp_per_message.describe()"
   ]
  },
  {
   "cell_type": "code",
   "execution_count": 46,
   "metadata": {},
   "outputs": [],
   "source": [
    "counts_per_message = cdf.mid.value_counts()"
   ]
  },
  {
   "cell_type": "code",
   "execution_count": 47,
   "metadata": {},
   "outputs": [
    {
     "data": {
      "text/plain": [
       "count     6609.000000\n",
       "mean        30.297322\n",
       "std        248.263886\n",
       "min          1.000000\n",
       "25%          1.000000\n",
       "50%          2.000000\n",
       "75%          5.000000\n",
       "max      12690.000000\n",
       "Name: mid, dtype: float64"
      ]
     },
     "execution_count": 47,
     "metadata": {},
     "output_type": "execute_result"
    }
   ],
   "source": [
    "counts_per_message.describe()"
   ]
  },
  {
   "cell_type": "code",
   "execution_count": 64,
   "metadata": {},
   "outputs": [
    {
     "ename": "AttributeError",
     "evalue": "'NoneType' object has no attribute 'query'",
     "output_type": "error",
     "traceback": [
      "\u001b[0;31m---------------------------------------------------------------------------\u001b[0m",
      "\u001b[0;31mAttributeError\u001b[0m                            Traceback (most recent call last)",
      "\u001b[0;32m<ipython-input-64-3954064f4d5c>\u001b[0m in \u001b[0;36m<module>\u001b[0;34m\u001b[0m\n\u001b[0;32m----> 1\u001b[0;31m \u001b[0mmsgs_over_50\u001b[0m \u001b[0;34m=\u001b[0m \u001b[0mcounts_per_message\u001b[0m\u001b[0;34m.\u001b[0m\u001b[0mquery\u001b[0m\u001b[0;34m(\u001b[0m\u001b[0;34m)\u001b[0m\u001b[0;34m\u001b[0m\u001b[0;34m\u001b[0m\u001b[0m\n\u001b[0m",
      "\u001b[0;31mAttributeError\u001b[0m: 'NoneType' object has no attribute 'query'"
     ]
    }
   ],
   "source": [
    "msgs_over_50 = counts_per_message.query()"
   ]
  },
  {
   "cell_type": "code",
   "execution_count": 23,
   "metadata": {},
   "outputs": [
    {
     "ename": "NameError",
     "evalue": "name 'df_counts' is not defined",
     "output_type": "error",
     "traceback": [
      "\u001b[0;31m---------------------------------------------------------------------------\u001b[0m",
      "\u001b[0;31mNameError\u001b[0m                                 Traceback (most recent call last)",
      "\u001b[0;32m<ipython-input-23-90f06a154549>\u001b[0m in \u001b[0;36m<module>\u001b[0;34m\u001b[0m\n\u001b[0;32m----> 1\u001b[0;31m \u001b[0mcounts_per_message\u001b[0m \u001b[0;34m=\u001b[0m \u001b[0mdf_counts\u001b[0m\u001b[0;34m(\u001b[0m\u001b[0mcdf\u001b[0m\u001b[0;34m,\u001b[0m \u001b[0;34m'mid'\u001b[0m\u001b[0;34m,\u001b[0m \u001b[0mhead\u001b[0m\u001b[0;34m=\u001b[0m\u001b[0;32mNone\u001b[0m\u001b[0;34m)\u001b[0m\u001b[0;34m\u001b[0m\u001b[0;34m\u001b[0m\u001b[0m\n\u001b[0m",
      "\u001b[0;31mNameError\u001b[0m: name 'df_counts' is not defined"
     ]
    }
   ],
   "source": [
    "counts_per_message = df_counts(cdf, 'mid', head=None)"
   ]
  },
  {
   "cell_type": "code",
   "execution_count": 24,
   "metadata": {},
   "outputs": [
    {
     "ename": "NameError",
     "evalue": "name 'counts_per_message' is not defined",
     "output_type": "error",
     "traceback": [
      "\u001b[0;31m---------------------------------------------------------------------------\u001b[0m",
      "\u001b[0;31mNameError\u001b[0m                                 Traceback (most recent call last)",
      "\u001b[0;32m<ipython-input-24-aa0549429a3a>\u001b[0m in \u001b[0;36m<module>\u001b[0;34m\u001b[0m\n\u001b[0;32m----> 1\u001b[0;31m \u001b[0mcounts_per_message\u001b[0m\u001b[0;34m.\u001b[0m\u001b[0mquery\u001b[0m\u001b[0;34m(\u001b[0m\u001b[0;34m'mid_count > 25'\u001b[0m\u001b[0;34m)\u001b[0m\u001b[0;34m.\u001b[0m\u001b[0mshape\u001b[0m\u001b[0;34m\u001b[0m\u001b[0;34m\u001b[0m\u001b[0m\n\u001b[0m",
      "\u001b[0;31mNameError\u001b[0m: name 'counts_per_message' is not defined"
     ]
    }
   ],
   "source": [
    "counts_per_message.query('mid_count > 25').shape"
   ]
  },
  {
   "cell_type": "code",
   "execution_count": null,
   "metadata": {},
   "outputs": [],
   "source": []
  }
 ],
 "metadata": {
  "kernelspec": {
   "display_name": "Python 3",
   "language": "python",
   "name": "python3"
  },
  "language_info": {
   "codemirror_mode": {
    "name": "ipython",
    "version": 3
   },
   "file_extension": ".py",
   "mimetype": "text/x-python",
   "name": "python",
   "nbconvert_exporter": "python",
   "pygments_lexer": "ipython3",
   "version": "3.7.4"
  }
 },
 "nbformat": 4,
 "nbformat_minor": 4
}
