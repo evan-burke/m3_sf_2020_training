{
 "cells": [
  {
   "cell_type": "markdown",
   "metadata": {},
   "source": [
    "# Automated Click Classification\n",
    "## This example uses larger-scale data with quite a bit more complexity."
   ]
  },
  {
   "cell_type": "markdown",
   "metadata": {},
   "source": [
    "Sharon's demo established some of the capabilities of Pandas.\n",
    "\n",
    "Here, we'll build on that - but the code will get a bit more advanced, so don't focus too much on that while we're running through it.\n",
    "\n",
    "Instead, pay more attention to the general techniques - many of them are applicable outside of Pandas and python."
   ]
  },
  {
   "cell_type": "markdown",
   "metadata": {},
   "source": [
    "### Note: The underlying data is not available on Colab, so treat this as read-only."
   ]
  },
  {
   "cell_type": "code",
   "execution_count": 4,
   "metadata": {},
   "outputs": [],
   "source": [
    "import datetime\n",
    "import os\n",
    "import random\n",
    "import sys\n",
    "\n",
    "from pprint import pprint\n",
    "\n",
    "import matplotlib.pyplot as plt\n",
    "import pandas as pd\n",
    "\n",
    "# commented out; won't work on colab\n",
    "# from clicks_nbdev.offline_augmentation import asnLookup\n",
    "# asndb = asnLookup()\n"
   ]
  },
  {
   "cell_type": "code",
   "execution_count": 5,
   "metadata": {},
   "outputs": [],
   "source": [
    "def value_counts_multi(df, group_column, return_columns):\n",
    "    # Returns a new df, grouped by specified columns, returning return_columns, sorted by count descending.\n",
    "    # return_columns should be a list.\n",
    "    \n",
    "    # Actually grouping doesn't work quite right, but it's good enough for \n",
    "    \n",
    "    newcolname = str(group_column) + \"_count\"\n",
    "    \n",
    "    df1 = pd.DataFrame(df.groupby(return_columns)[group_column].count())\n",
    "    df1 = df1.rename(columns={group_column:newcolname}).reset_index().sort_values(newcolname, ascending=False)\n",
    "    return df1.reset_index().drop('index', axis='columns')\n",
    "    \n",
    "    \n",
    "def df_counts(df, column, head=None):\n",
    "    # returns a df of value_counts of the column.\n",
    "    col = str(column)\n",
    "    if head:\n",
    "        top_values = df[column].value_counts().head(head)\n",
    "    else:\n",
    "        top_values = df[column].value_counts()\n",
    "        \n",
    "    colname = col + \"_count\"\n",
    "    top_values = top_values.rename_axis(column).reset_index(name=colname)\n",
    "    top_values[colname] = top_values[colname].astype('int32')\n",
    "    return top_values"
   ]
  },
  {
   "cell_type": "markdown",
   "metadata": {},
   "source": [
    "## Let's talk about cleaning data."
   ]
  },
  {
   "cell_type": "code",
   "execution_count": 6,
   "metadata": {},
   "outputs": [],
   "source": [
    "with open('rawlog.txt', 'r') as f:\n",
    "    log = f.readlines()\n",
    "\n",
    "log = [i.rstrip(\"\\n\") for i in log]"
   ]
  },
  {
   "cell_type": "code",
   "execution_count": 7,
   "metadata": {},
   "outputs": [
    {
     "name": "stdout",
     "output_type": "stream",
     "text": [
      "[10/Nov/2019:06:06:48] 1.2.3.4 + - www.example.com \"GET /c.html?ufl=a&rtr=on&s=abcdef,bcde,cdef,defg,efgh,fghi,ghij&MLM_MID=123456 HTTP/1.1\" 302 26 \"-\" \"Mozilla/5.0 (iPad; CPU OS 13_1_2 like Mac OS X) AppleWebKit/605.1.15 (KHTML, like Gecko) Version/13.0.1 Mobile/15E148 Safari/604.1\"\n",
      "[10/Nov/2019:03:51:00] 1.2.3.4 - - 1.2.3.4:107 \"GET /crossdomain.xml HTTP/1.1\" 200 1051 \"-\" \"ELB-HealthChecker/2.0\"\n",
      "[10/Nov/2019:04:04:21] 1.2.3.4 - - 1.2.3.4:107 \"GET /crossdomain.xml HTTP/1.1\" 200 1051 \"-\" \"ELB-HealthChecker/2.0\"\n",
      "[10/Nov/2019:06:58:11] 1.2.3.4 + - www.example.com \"GET /c.html?ufl=7&rtr=on&s=abcdef,bcde,cdef,defg,efgh,fghi,ghij&MLM_MID=123456 HTTP/1.1\" 302 26 \"-\" \"Mozilla/5.0 (Macintosh; Intel Mac OS X 10_14_6) AppleWebKit/605.1.15 (KHTML, like Gecko) Version/13.0.2 Safari/605.1.15\"\n",
      "[10/Nov/2019:03:55:42] 1.2.3.4 - - 1.2.3.4:107 \"GET /crossdomain.xml HTTP/1.1\" 200 1051 \"-\" \"ELB-HealthChecker/2.0\"\n",
      "[10/Nov/2019:04:25:14] 1.2.3.4 + - www.example.com \"GET /c.html?ufl=c&rtr=on&s=abcdef,bcde,cdef,defg,efgh,fghi,ghij HTTP/1.1\" 302 26 \"-\" \"Mozilla/5.0 (Windows NT 10.0; Win64; x64) AppleWebKit/537.36 (KHTML, like Gecko) Chrome/64.0.3282.140 Safari/537.36 Edge/17.17134\"\n",
      "[10/Nov/2019:09:46:47] 1.2.3.4 + - www.example.com \"GET /c.html?ufl=5&rtr=on&s=abcdef,bcde,cdef,defg,efgh,fghi,ghij HTTP/1.1\" 302 26 \"-\" \"Mozilla/5.0 (Windows NT 6.1; Win64; x64) AppleWebKit/537.36 (KHTML, like Gecko) Chrome/78.0.3904.87 Safari/537.36\"\n",
      "[10/Nov/2019:12:19:22] 1.2.3.4 + - www.example.com \"HEAD /c.html?ufl=7&amp HTTP/1.1\" 200 - \"http://www.example.com/c.html?ufl=7&amp\" \"WordPress/5.2.4; http://www.nri-news.net\"\n",
      "[10/Nov/2019:04:14:38] 1.2.3.4 + - www.example.com \"GET /c.html?ufl=0&rtr=on&s=abcdef,bcde,cdef,defg,efgh,fghi,ghij HTTP/1.1\" 302 26 \"-\" \"Mozilla/5.0 (Windows NT 10.0; Win64; x64) AppleWebKit/537.36 (KHTML, like Gecko) Chrome/70.0.3538.102 Safari/537.36 Edge/18.18362\"\n",
      "[10/Nov/2019:10:05:55] 1.2.3.4 + - www.example.com \"GET /c.html?ufl=8&rtr=on&s=abcdef,bcde,cdef,defg,efgh,fghi,ghij&MLM_MID=123456 HTTP/1.1\" 302 26 \"http://www.example.com/functions/message_view.html?mid=76543&mlid=87654&siteid=example\" \"Mozilla/5.0 (Windows NT 10.0; Win64; x64; rv:71.0) Gecko/20100101 Firefox/71.0\"\n",
      "[10/Nov/2019:13:47:40] 1.2.3.4 + - www.example.com \"GET /c.html?ufl=e&rtr=on&s=abcdef,bcde,cdef,defg,efgh,fghi,ghij HTTP/1.1\" 302 26 \"-\" \"Mozilla/5.0 (Windows NT 10.0; Win64; x64) AppleWebKit/537.36 (KHTML, like Gecko) Chrome/64.0.3282.140 Safari/537.36 Edge/18.17763\"\n",
      "[10/Nov/2019:04:00:51] 1.2.3.4 + - www.example.com \"GET /images/mlopen_post.html?rtr=on&siteid=example&mid=98765&mlid=87654 HTTP/1.1\" 200 42 \"-\" \"Mozilla/5.0 (iPad; CPU OS 12_3_1 like Mac OS X) AppleWebKit/605.1.15 (KHTML, like Gecko) Mobile/15E148\"\n",
      "[10/Nov/2019:06:16:04] 1.2.3.4 + - www.example.com \"GET /c.html?ufl=d&rtr=on&s=abcdef,bcde,cdef,defg,efgh,fghi,ghij&MLM_MID=123456 HTTP/1.1\" 302 26 \"-\" \"Mozilla/5.0 (Windows NT 10.0; Win64; x64) AppleWebKit/537.36 (KHTML, like Gecko) Chrome/64.0.3282.140 Safari/537.36 Edge/18.17763\"\n",
      "[10/Nov/2019:08:18:26] 1.2.3.4 + - www.example.com \"GET /c.html?ufl=0&rtr=on&s=abcdef,bcde,cdef,defg,efgh,fghi,ghij HTTP/1.1\" 302 26 \"-\" \"Mozilla/5.0 (Linux; U; Android 4.0.3; en-us; LG-L160L Build/IML74K) AppleWebkit/537.36 (KHTML, like Gecko) Version/4.0 Chrome/78.0.3904.74 Mobile Safari/537.36\"\n",
      "[10/Nov/2019:13:56:20] 1.2.3.4 + - www.example.com \"GET /c.html?ufl=0&rtr=on&s=abcdef,bcde,cdef,defg,efgh,fghi,ghij HTTP/1.1\" 302 26 \"-\" \"Mozilla/5.0 (Macintosh; Intel Mac OS X 10_14_6) AppleWebKit/605.1.15 (KHTML, like Gecko) Version/13.0.3 Safari/605.1.15\"\n",
      "[10/Nov/2019:04:07:23] 1.2.3.4 - - 1.2.3.4:107 \"GET /crossdomain.xml HTTP/1.1\" 200 1051 \"-\" \"ELB-HealthChecker/2.0\"\n",
      "[10/Nov/2019:07:45:13] 1.2.3.4 + - www.example.com \"GET /c.html?ufl=5&rtr=on&s=abcdef,bcde,cdef,defg,efgh,fghi,ghij HTTP/1.1\" 302 26 \"-\" \"Mozilla/5.0 (Windows NT 10.0; Win64; x64; rv:70.0) Gecko/20100101 Firefox/70.0\"\n",
      "[10/Nov/2019:05:27:31] 1.2.3.4 + - www.example.com \"GET /c.html?ufl=1&rtr=on&s=abcdef,bcde,cdef,defg,efgh,fghi,ghij HTTP/1.1\" 302 26 \"-\" \"Mozilla/5.0 (Windows NT 10.0; WOW64) AppleWebKit/537.36 (KHTML, like Gecko) Chrome/78.0.3904.97 Safari/537.36\"\n",
      "[10/Nov/2019:04:09:00] 1.2.3.4 + - www.example.com \"GET /c.html?ufl=d&rtr=on&s=abcdef,bcde,cdef,defg,efgh,fghi,ghij&MLM_MID=123456 HTTP/1.1\" 302 26 \"-\" \"Mozilla/5.0 (iPhone; CPU iPhone OS 12_4 like Mac OS X) AppleWebKit/605.1.15 (KHTML, like Gecko) CriOS/78.0.3904.84 Mobile/15E148 Safari/605.1\"\n",
      "[10/Nov/2019:12:30:43] 1.2.3.4 + - www.example.com \"GET /c.html?ufl=8&rtr=on&s=abcdef,bcde,cdef,defg,efgh,fghi,ghij&MLM_MID=123456 HTTP/1.1\" 200 20 \"-\" \"Mozilla/5.0 (Windows; U; Windows NT 5.1; en-GB; rv:1.2.3.4) Gecko/20080702 Firefox/1.2.3.4\"\n",
      "[10/Nov/2019:04:12:01] 1.2.3.4 - - 1.2.3.4:107 \"GET /crossdomain.xml HTTP/1.1\" 200 1051 \"-\" \"ELB-HealthChecker/2.0\"\n",
      "[10/Nov/2019:04:44:14] 1.2.3.4 + - www.example.com \"GET /c.html?ufl=2&rtr=on&s=abcdef,bcde,cdef,defg,efgh,fghi,ghij&MLM_MID=123456 HTTP/1.1\" 302 26 \"android-app://com.google.android.gm\" \"Mozilla/5.0 (Linux; Android 6.0.1; ZTE Blade A462) AppleWebKit/537.36 (KHTML, like Gecko) Chrome/75.0.3770.101 Mobile Safari/537.36\"\n",
      "[10/Nov/2019:03:59:35] 1.2.3.4 + - www.example.com \"GET /images/mlopen_post.html?rtr=on&siteid=example&mid=98765&mlid=87654 HTTP/1.1\" 200 42 \"-\" \"Mozilla/5.0 (iPad; CPU OS 12_4_1 like Mac OS X) AppleWebKit/605.1.15 (KHTML, like Gecko) Mobile/15E148\"\n",
      "[10/Nov/2019:04:03:00] 1.2.3.4 - - 1.2.3.4:107 \"GET /crossdomain.xml HTTP/1.1\" 200 1051 \"-\" \"ELB-HealthChecker/2.0\"\n",
      "[10/Nov/2019:10:47:00] 1.2.3.4 + - www.example.com \"GET /c.html?ufl=f&rtr=on&s=abcdef,bcde,cdef,defg,efgh,fghi,ghij HTTP/1.1\" 302 26 \"-\" \"Mozilla/5.0 (Windows NT 10.0; Win64; x64; rv:70.0) Gecko/20100101 Firefox/70.0\"\n",
      "[10/Nov/2019:04:07:51] 1.2.3.4 + - www.example.com \"GET /images/mlopen_post.html?rtr=on&siteid=example&mid=98765&mlid=87654 HTTP/1.1\" 200 42 \"-\" \"Mozilla/5.0 (iPad; CPU OS 12_4_2 like Mac OS X) AppleWebKit/605.1.15 (KHTML, like Gecko) Mobile/15E148\"\n",
      "[10/Nov/2019:03:49:29] 1.2.3.4 + - www.example.com \"GET /robots.txt HTTP/1.1\" 200 64 \"-\" \"Mozilla/5.0 (compatible; bingbot/2.0; +http://www.bing.com/bingbot.htm)\"\n",
      "[10/Nov/2019:06:59:45] 1.2.3.4 + - www.example.com \"GET /c.html?ufl=7&rtr=on&s=abcdef,bcde,cdef,defg,efgh,fghi,ghij&MLM_MID=123456 HTTP/1.1\" 302 26 \"-\" \"Mozilla/5.0 (Macintosh; Intel Mac OS X 10_14_6) AppleWebKit/605.1.15 (KHTML, like Gecko) Version/13.0.2 Safari/605.1.15\"\n",
      "[10/Nov/2019:04:10:51] 1.2.3.4 - - 1.2.3.4:107 \"GET /crossdomain.xml HTTP/1.1\" 200 1051 \"-\" \"ELB-HealthChecker/2.0\"\n",
      "[10/Nov/2019:09:39:09] 1.2.3.4 + - www.example.com \"GET /c.html?ufl=5&rtr=on&s=abcdef,bcde,cdef,defg,efgh,fghi,ghij HTTP/1.1\" 302 26 \"-\" \"Mozilla/5.0 (Windows NT 6.1; Win64; x64) AppleWebKit/537.36 (KHTML, like Gecko) Chrome/78.0.3904.87 Safari/537.36\"\n",
      "[10/Nov/2019:04:09:26] 1.2.3.4 + - www.example.com \"GET /images/mlopen_post.html?rtr=on&siteid=example&mid=98765&mlid=87654 HTTP/1.1\" 200 42 \"-\" \"Mozilla/5.0 (Macintosh; Intel Mac OS X 10_13_6) AppleWebKit/605.1.15 (KHTML, like Gecko)\"\n",
      "[10/Nov/2019:09:29:01] 1.2.3.4 + - www.example.com \"GET /c.html?ufl=6&rtr=on&s=abcdef,bcde,cdef,defg,efgh,fghi,ghij HTTP/1.1\" 302 26 \"-\" \"Mozilla/5.0 (Windows NT 10.0; Win64; x64) AppleWebKit/537.36 (KHTML, like Gecko) Chrome/57.0.2987.133 Safari/537.36\"\n",
      "[10/Nov/2019:03:54:40] 1.2.3.4 + - www.example.com \"GET /images/mlopen_post.html?rtr=on&siteid=example&mid=98765&mlid=87654 HTTP/1.1\" 200 42 \"-\" \"Mozilla/5.0 (iPad; CPU OS 12_3_1 like Mac OS X) AppleWebKit/605.1.15 (KHTML, like Gecko) Mobile/15E148\"\n",
      "[10/Nov/2019:04:02:48] 1.2.3.4 + - www.example.com \"GET /images/mlopen_post.html?rtr=on&siteid=example&mid=98765&mlid=87654 HTTP/1.1\" 200 42 \"-\" \"Mozilla/5.0 (Macintosh; Intel Mac OS X 10_15) AppleWebKit/605.1.15 (KHTML, like Gecko)\"\n",
      "[10/Nov/2019:03:47:30] 1.2.3.4 - - 1.2.3.4:107 \"GET /crossdomain.xml HTTP/1.1\" 200 1051 \"-\" \"ELB-HealthChecker/2.0\"\n",
      "[10/Nov/2019:10:24:33] 1.2.3.4 + - www.example.com \"GET /c.html?ufl=0&rtr=on&s=abcdef,bcde,cdef,defg,efgh,fghi,ghij HTTP/1.1\" 302 - \"-\" \"Mozilla/5.0 (Linux; Android 9; G8341) AppleWebKit/537.36 (KHTML, like Gecko) Chrome/74.0.3729.136 Mobile Safari/537.36\"\n",
      "[10/Nov/2019:03:59:00] 1.2.3.4 - - 1.2.3.4:107 \"GET /crossdomain.xml HTTP/1.1\" 200 1051 \"-\" \"ELB-HealthChecker/2.0\"\n",
      "[10/Nov/2019:03:56:12] 1.2.3.4 + - www.example.com \"GET /images/mlopen_post.html?rtr=on&siteid=example&mid=98765&mlid=87654 HTTP/1.1\" 200 42 \"-\" \"Mozilla/5.0 (iPhone; CPU iPhone OS 12_4_1 like Mac OS X) AppleWebKit/605.1.15 (KHTML, like Gecko) Mobile/15E148\"\n",
      "[10/Nov/2019:04:06:32] 1.2.3.4 + - www.example.com \"GET /images/mlopen_post.html?rtr=on&siteid=example&mid=98765&mlid=87654 HTTP/1.1\" 200 42 \"-\" \"Mozilla/5.0 (Macintosh; Intel Mac OS X 10_13_6) AppleWebKit/605.1.15 (KHTML, like Gecko)\"\n",
      "[10/Nov/2019:03:48:52] 1.2.3.4 - - 1.2.3.4:107 \"GET /crossdomain.xml HTTP/1.1\" 200 1051 \"-\" \"ELB-HealthChecker/2.0\"\n",
      "[10/Nov/2019:03:47:09] 1.2.3.4 + - www.example.com \"GET /c.html?ufl=6&rtr=on&s=abcdef,bcde,cdef,defg,efgh,fghi,ghij HTTP/1.1\" 302 26 \"-\" \"Mozilla/5.0 (Windows NT 10.0; Win64; x64) AppleWebKit/537.36 (KHTML, like Gecko) Chrome/78.0.3904.87 Safari/537.36\"\n",
      "[10/Nov/2019:04:11:31] 1.2.3.4 - - 1.2.3.4:107 \"GET /crossdomain.xml HTTP/1.1\" 200 1051 \"-\" \"ELB-HealthChecker/2.0\"\n",
      "[10/Nov/2019:10:19:39] 1.2.3.4 + - www.example.com \"GET /c.html?ufl=f&rtr=on&s=abcdef,bcde,cdef,defg,efgh,fghi,ghij&MLM_MID=123456 HTTP/1.1\" 302 26 \"http://www.example.com/functions/message_view.html?mid=76543&mlid=87654&siteid=example\" \"Mozilla/5.0 (Windows NT 10.0; Win64; x64) AppleWebKit/537.36 (KHTML, like Gecko) Chrome/64.0.3282.140 Safari/537.36 Edge/18.17763\"\n",
      "[10/Nov/2019:10:48:17] 1.2.3.4 + - www.example.com \"GET /c.html?ufl=a&rtr=on&s=abcdef,bcde,cdef,defg,efgh,fghi,ghij&sourcecode=123456 HTTP/1.1\" 302 26 \"-\" \"Mozilla/5.0 (iPhone; CPU iPhone OS 13_1_2 like Mac OS X) AppleWebKit/605.1.15 (KHTML, like Gecko) Version/13.0.1 Mobile/15E148 Safari/604.1\"\n",
      "[10/Nov/2019:03:47:11] 1.2.3.4 + - www.example.com \"GET /images/mlopen_post.html?rtr=on&siteid=example&mid=98765&mlid=87654 HTTP/1.1\" 200 42 \"-\" \"Mozilla/5.0 (Windows NT 10.0; Win64; x64) AppleWebKit/537.36 (KHTML, like Gecko) Chrome/78.0.3904.87 Safari/537.36\"\n",
      "[10/Nov/2019:09:40:42] 1.2.3.4 + - www.example.com \"GET /c.html?ufl=c&rtr=on&s=abcdef%2Cbcde%2Ccdef%2Cdefg%2Cefgh%2Cfghi%2Cghij HTTP/1.1\" 302 - \"-\" \"Mozilla/5.0 (X11; U; Linux x86_64; en-US; rv:1.2.3.4) Gecko/20101206 Ubuntu/10.04 (lucid) Firefox/3.6.13\"\n",
      "[10/Nov/2019:03:59:25] 1.2.3.4 + - www.example.com \"GET /images/mlopen_post.html?rtr=on&siteid=example&mid=98765&mlid=87654 HTTP/1.1\" 200 42 \"-\" \"Mozilla/4.0 (compatible; MSIE 7.0; Windows NT 6.1; WOW64; Trident/7.0; SLCC2; .NET CLR 2.0.50727; .NET CLR 3.5.30729; .NET CLR 3.0.30729; Media Center PC 6.0; InfoPath.2; MSOffice 12)\"\n",
      "[10/Nov/2019:03:47:09] 1.2.3.4 + - www.example.com \"GET /c.html?ufl=6&rtr=on&s=abcdef,bcde,cdef,defg,efgh,fghi,ghij HTTP/1.1\" 302 26 \"-\" \"Mozilla/5.0 (Windows NT 10.0; Win64; x64) AppleWebKit/537.36 (KHTML, like Gecko) Chrome/78.0.3904.87 Safari/537.36\"\n",
      "[10/Nov/2019:09:15:53] 1.2.3.4 + - www.example.com \"GET /c.html?ufl=b&rtr=on&s=abcdef,bcde,cdef,defg,efgh,fghi,ghij HTTP/1.1\" 302 26 \"-\" \"Mozilla/5.0 (Windows NT 10.0; Win64; x64) AppleWebKit/537.36 (KHTML, like Gecko) Chrome/77.0.3865.120 Safari/537.36\"\n",
      "[10/Nov/2019:04:00:42] 1.2.3.4 + - www.example.com \"GET /images/mlopen_post.html?rtr=on&siteid=example&mid=98765&mlid=87654 HTTP/1.1\" 200 42 \"-\" \"Mozilla/5.0 (iPad; CPU OS 12_4_1 like Mac OS X) AppleWebKit/605.1.15 (KHTML, like Gecko) Mobile/15E148\"\n"
     ]
    }
   ],
   "source": [
    "for i in log:\n",
    "    print(i)"
   ]
  },
  {
   "cell_type": "markdown",
   "metadata": {},
   "source": [
    "## Cleaning steps:\n",
    "- Run a log parsing module. Handle parsing errors without crashing the parsing pipeline; log error rates.\n",
    "- Filter to lines containing click tracking links (e.g., /c.html)\n",
    "\n",
    "\n",
    "\n",
    "- Do a lot of sanity checking of click tracking links. \n",
    "    - Expected click string should look like:\n",
    "\n",
    "           abcdef,bcde,cdef,defg,efgh,fghi,ghij\n",
    "      \n",
    "      \n",
    "      7 sections, alphanumeric, between 32 and 40 characters.\n",
    "\n",
    "    - Is it within expected length ranges?\n",
    "    - These are comma separated. Are there enough commas in the string?\n",
    "    - These only contain alphanumeric characters. Are there any invalid characters?\n",
    "    - If a line doesn't pass, fill data with 0s for values.\n",
    "\n"
   ]
  },
  {
   "cell_type": "markdown",
   "metadata": {},
   "source": [
    "\n",
    "\n",
    "Real-world examples of strings that came back:\n",
    "\n",
    "    '3Dabcd=',\n",
    "    'abcdef,bcde,cdef,defg,efgh,fghi,ghij,9tkII,defg,efgh,fghi,ghij',\n",
    "    \"abcdef,bcde,cdef,defg,efgh,fghi,ghij') UNION ALL SELECT NULL,NULL-- \",\n",
    "    \"abcdef,bcde,cdef,defg,efgh,fghi,ghij%' UNION ALL SELECT NULL,NULL,NULL,NULL,NULL,NULL,NULL,NULL,NULL-- \",\n",
    "    'abcdef,bcde,cdefdefgefghfghighij',\n",
    "    'abcdef,3kxxxxx2xxxxx,xxxxxefgh,fghi,xxxxx,xxxxx',\n",
    "\n",
    "\n",
    "What does a 0.1% error rate mean when you're parsing 100 million rows?"
   ]
  },
  {
   "cell_type": "code",
   "execution_count": null,
   "metadata": {},
   "outputs": [],
   "source": []
  },
  {
   "cell_type": "markdown",
   "metadata": {},
   "source": [
    "## Data Augmentation / Feature Engineering\n",
    "\n",
    "What can we do to our data that might give us more tools to analyze it, and/or, to classify it later on?\n",
    "\n",
    "A few things to start with:\n",
    "- Convert IPs to /24s\n",
    "- Look up ASNs, enclosing CIDRs, and AS organization names for the IPs\n",
    "- Extract details from the user-agent strings - OS, OS version, browser type, browser version\n",
    "\n"
   ]
  },
  {
   "cell_type": "code",
   "execution_count": 332,
   "metadata": {},
   "outputs": [],
   "source": [
    "# Let's load some known good data.\n",
    "gdf = pd.read_pickle('good_20200216.p')"
   ]
  },
  {
   "cell_type": "code",
   "execution_count": 333,
   "metadata": {},
   "outputs": [
    {
     "name": "stdout",
     "output_type": "stream",
     "text": [
      "<class 'pandas.core.frame.DataFrame'>\n",
      "Int64Index: 88305 entries, 1 to 1682953\n",
      "Data columns (total 26 columns):\n",
      "request_time                                          88305 non-null datetime64[ns, UTC]\n",
      "remote_ip                                             88305 non-null object\n",
      "conn_status                                           88305 non-null object\n",
      "request_method                                        88305 non-null object\n",
      "request_url_path                                      88305 non-null object\n",
      "request_url_query_simple_dict                         88305 non-null object\n",
      "status                                                88305 non-null object\n",
      "response_bytes_clf                                    88305 non-null object\n",
      "request_header_referer                                88305 non-null object\n",
      "request_header_user_agent                             88305 non-null object\n",
      "request_header_user_agent__browser__family            88305 non-null object\n",
      "request_header_user_agent__browser__version_string    88305 non-null object\n",
      "request_header_user_agent__os__family                 88305 non-null object\n",
      "request_header_user_agent__os__version_string         88305 non-null object\n",
      "request_header_user_agent__is_mobile                  88305 non-null bool\n",
      "ip_slash24                                            88305 non-null object\n",
      "el_request_type                                       88305 non-null object\n",
      "sid                                                   88305 non-null int64\n",
      "mid                                                   88305 non-null int32\n",
      "mlid                                                  88305 non-null int32\n",
      "ruid                                                  88305 non-null object\n",
      "asn                                                   88305 non-null int32\n",
      "netblock                                              88305 non-null object\n",
      "as_org                                                88305 non-null object\n",
      "farm                                                  88305 non-null object\n",
      "farm_mid                                              88305 non-null object\n",
      "dtypes: bool(1), datetime64[ns, UTC](1), int32(3), int64(1), object(20)\n",
      "memory usage: 16.6+ MB\n"
     ]
    }
   ],
   "source": [
    "gdf.info()"
   ]
  },
  {
   "cell_type": "markdown",
   "metadata": {},
   "source": [
    "# Data points\n",
    "### - IP, User-Agent, Click Delay\n",
    "\n",
    "What do we expect standard user behavior to look like?\n",
    "\n",
    "- Traffic should come from a lot of different IPs.\n",
    "    - Exceptions:\n",
    "        - Mail sent prmarily to corporate domains may originate from NAT IPs instead of end user IPs.\n",
    "        \n",
    "     \n",
    "- Traffic should have a lot of different User-Agent strings.\n",
    "    - Exceptions:\n",
    "        - Mailbox providers using image proxies (Gmail, Yahoo)\n",
    "        - Corporate networks with heavily standardized IT\n",
    " \n",
    "        \n",
    "- Traffic should have a lot of variation in how long a user takes to click on a message once it's received.\n",
    "    - Exceptions:\n",
    "        - Automated systems that load images or links as part of evaluating whether they are spam or malicious\n",
    "        "
   ]
  },
  {
   "cell_type": "code",
   "execution_count": 334,
   "metadata": {},
   "outputs": [
    {
     "data": {
      "text/html": [
       "<div>\n",
       "<style scoped>\n",
       "    .dataframe tbody tr th:only-of-type {\n",
       "        vertical-align: middle;\n",
       "    }\n",
       "\n",
       "    .dataframe tbody tr th {\n",
       "        vertical-align: top;\n",
       "    }\n",
       "\n",
       "    .dataframe thead th {\n",
       "        text-align: right;\n",
       "    }\n",
       "</style>\n",
       "<table border=\"1\" class=\"dataframe\">\n",
       "  <thead>\n",
       "    <tr style=\"text-align: right;\">\n",
       "      <th></th>\n",
       "      <th>netblock</th>\n",
       "      <th>as_org</th>\n",
       "      <th>netblock_count</th>\n",
       "    </tr>\n",
       "  </thead>\n",
       "  <tbody>\n",
       "    <tr>\n",
       "      <th>0</th>\n",
       "      <td>73.0.0.0/8</td>\n",
       "      <td>COMCAST-7922, US</td>\n",
       "      <td>3658</td>\n",
       "    </tr>\n",
       "    <tr>\n",
       "      <th>1</th>\n",
       "      <td>74.125.0.0/16</td>\n",
       "      <td>GOOGLE, US</td>\n",
       "      <td>2367</td>\n",
       "    </tr>\n",
       "    <tr>\n",
       "      <th>2</th>\n",
       "      <td>172.58.136.0/21</td>\n",
       "      <td>T-MOBILE-AS21928, US</td>\n",
       "      <td>1435</td>\n",
       "    </tr>\n",
       "    <tr>\n",
       "      <th>3</th>\n",
       "      <td>172.58.104.0/21</td>\n",
       "      <td>T-MOBILE-AS21928, US</td>\n",
       "      <td>1270</td>\n",
       "    </tr>\n",
       "    <tr>\n",
       "      <th>4</th>\n",
       "      <td>34.208.0.0/12</td>\n",
       "      <td>AMAZON-02, US</td>\n",
       "      <td>1251</td>\n",
       "    </tr>\n",
       "    <tr>\n",
       "      <th>5</th>\n",
       "      <td>66.102.0.0/20</td>\n",
       "      <td>GOOGLE, US</td>\n",
       "      <td>1066</td>\n",
       "    </tr>\n",
       "    <tr>\n",
       "      <th>6</th>\n",
       "      <td>66.249.88.0/24</td>\n",
       "      <td>GOOGLE, US</td>\n",
       "      <td>1052</td>\n",
       "    </tr>\n",
       "    <tr>\n",
       "      <th>7</th>\n",
       "      <td>172.58.152.0/21</td>\n",
       "      <td>T-MOBILE-AS21928, US</td>\n",
       "      <td>916</td>\n",
       "    </tr>\n",
       "    <tr>\n",
       "      <th>8</th>\n",
       "      <td>3.80.0.0/12</td>\n",
       "      <td>AMAZON-AES, US</td>\n",
       "      <td>865</td>\n",
       "    </tr>\n",
       "    <tr>\n",
       "      <th>9</th>\n",
       "      <td>172.58.168.0/21</td>\n",
       "      <td>T-MOBILE-AS21928, US</td>\n",
       "      <td>861</td>\n",
       "    </tr>\n",
       "    <tr>\n",
       "      <th>10</th>\n",
       "      <td>172.58.16.0/21</td>\n",
       "      <td>T-MOBILE-AS21928, US</td>\n",
       "      <td>811</td>\n",
       "    </tr>\n",
       "    <tr>\n",
       "      <th>11</th>\n",
       "      <td>172.58.96.0/21</td>\n",
       "      <td>T-MOBILE-AS21928, US</td>\n",
       "      <td>803</td>\n",
       "    </tr>\n",
       "  </tbody>\n",
       "</table>\n",
       "</div>"
      ],
      "text/plain": [
       "           netblock                as_org  netblock_count\n",
       "0        73.0.0.0/8      COMCAST-7922, US            3658\n",
       "1     74.125.0.0/16            GOOGLE, US            2367\n",
       "2   172.58.136.0/21  T-MOBILE-AS21928, US            1435\n",
       "3   172.58.104.0/21  T-MOBILE-AS21928, US            1270\n",
       "4     34.208.0.0/12         AMAZON-02, US            1251\n",
       "5     66.102.0.0/20            GOOGLE, US            1066\n",
       "6    66.249.88.0/24            GOOGLE, US            1052\n",
       "7   172.58.152.0/21  T-MOBILE-AS21928, US             916\n",
       "8       3.80.0.0/12        AMAZON-AES, US             865\n",
       "9   172.58.168.0/21  T-MOBILE-AS21928, US             861\n",
       "10   172.58.16.0/21  T-MOBILE-AS21928, US             811\n",
       "11   172.58.96.0/21  T-MOBILE-AS21928, US             803"
      ]
     },
     "execution_count": 334,
     "metadata": {},
     "output_type": "execute_result"
    }
   ],
   "source": [
    "# Let's look at data for good IPs first.\n",
    "value_counts_multi(gdf, 'netblock', ['netblock','as_org']).head(12)"
   ]
  },
  {
   "cell_type": "code",
   "execution_count": 335,
   "metadata": {},
   "outputs": [
    {
     "data": {
      "text/plain": [
       "Mozilla/5.0 (iPhone; CPU iPhone OS 13_3 like Mac OS X) AppleWebKit/605.1.15 (KHTML, like Gecko) Version/13.0.4 Mobile/15E148 Safari/604.1                6899\n",
       "Mozilla/5.0 (Windows NT 10.0; Win64; x64) AppleWebKit/537.36 (KHTML, like Gecko) Chrome/79.0.3945.88 Safari/537.36                                       2195\n",
       "Mozilla/5.0 (iPhone; CPU iPhone OS 13_3 like Mac OS X) AppleWebKit/605.1.15 (KHTML, like Gecko) CriOS/79.0.3945.73 Mobile/15E148 Safari/604.1            2107\n",
       "Mozilla/5.0 (Windows NT 5.1) AppleWebKit/537.36 (KHTML, like Gecko) Chrome/45.0.2454.93 Safari/537.36                                                    1221\n",
       "Mozilla/5.0 (Linux; Android 9; LM-Q720) AppleWebKit/537.36 (KHTML, like Gecko) Chrome/79.0.3945.93 Mobile Safari/537.36                                   900\n",
       "Mozilla/5.0 (iPhone; CPU iPhone OS 12_1_4 like Mac OS X) AppleWebKit/605.1.15 (KHTML, like Gecko) Version/12.0 Mobile/15E148 Safari/604.1                 748\n",
       "Mozilla/5.0 (Windows NT 10.0; Win64; x64) AppleWebKit/537.36 (KHTML, like Gecko) Chrome/79.0.3945.117 Safari/537.36                                       709\n",
       "Mozilla/5.0 (Linux; Android 8.0.0; moto e5 play Build/OCPS27.91-23-3) AppleWebKit/537.36 (KHTML, like Gecko) Chrome/68.0.3440.91 Mobile Safari/537.36     700\n",
       "Mozilla/5.0 (Linux; Android 5.1.1; A570BL Build/LMY47V) AppleWebKit/537.36 (KHTML, like Gecko) Version/4.0 Chrome/38.0.2125.102 Mobile Safari/537.36      627\n",
       "Mozilla/5.0 (Linux; Android 8.1.0; LM-X210APM) AppleWebKit/537.36 (KHTML, like Gecko) Chrome/76.0.3809.132 Mobile Safari/537.36                           581\n",
       "Name: request_header_user_agent, dtype: int64"
      ]
     },
     "execution_count": 335,
     "metadata": {},
     "output_type": "execute_result"
    }
   ],
   "source": [
    "# And what kind of user-agents we have for this:\n",
    "gdf.request_header_user_agent.value_counts().head(10)"
   ]
  },
  {
   "cell_type": "code",
   "execution_count": 264,
   "metadata": {},
   "outputs": [
    {
     "data": {
      "text/html": [
       "<div>\n",
       "<style scoped>\n",
       "    .dataframe tbody tr th:only-of-type {\n",
       "        vertical-align: middle;\n",
       "    }\n",
       "\n",
       "    .dataframe tbody tr th {\n",
       "        vertical-align: top;\n",
       "    }\n",
       "\n",
       "    .dataframe thead th {\n",
       "        text-align: right;\n",
       "    }\n",
       "</style>\n",
       "<table border=\"1\" class=\"dataframe\">\n",
       "  <thead>\n",
       "    <tr style=\"text-align: right;\">\n",
       "      <th></th>\n",
       "      <th>min_request_time</th>\n",
       "    </tr>\n",
       "  </thead>\n",
       "  <tbody>\n",
       "    <tr>\n",
       "      <th>0</th>\n",
       "      <td>2020-01-01 09:28:01+00:00</td>\n",
       "    </tr>\n",
       "    <tr>\n",
       "      <th>1</th>\n",
       "      <td>2020-01-01 20:42:19+00:00</td>\n",
       "    </tr>\n",
       "    <tr>\n",
       "      <th>2</th>\n",
       "      <td>2020-01-03 19:37:58+00:00</td>\n",
       "    </tr>\n",
       "    <tr>\n",
       "      <th>3</th>\n",
       "      <td>2020-01-05 06:29:48+00:00</td>\n",
       "    </tr>\n",
       "    <tr>\n",
       "      <th>4</th>\n",
       "      <td>2020-01-10 22:27:22+00:00</td>\n",
       "    </tr>\n",
       "  </tbody>\n",
       "</table>\n",
       "</div>"
      ],
      "text/plain": [
       "           min_request_time\n",
       "0 2020-01-01 09:28:01+00:00\n",
       "1 2020-01-01 20:42:19+00:00\n",
       "2 2020-01-03 19:37:58+00:00\n",
       "3 2020-01-05 06:29:48+00:00\n",
       "4 2020-01-10 22:27:22+00:00"
      ]
     },
     "execution_count": 264,
     "metadata": {},
     "output_type": "execute_result"
    }
   ],
   "source": [
    "# Before we can look at click delay, we'll need to calculate that.\n",
    "# Actual send time is not in these logs, but we can get something close if we look for\n",
    "# This approach isn't perfect, but it's good enough for some initial exploration.\n",
    "\n",
    "def calc_min_click_time(df):\n",
    "\n",
    "    # Let's look at the timing of these clicks.\n",
    "    # As a baseline, we look at the earlest click for each message, so let's calcuate that.\n",
    "    min_timestamp_per_message = df.groupby('farm_mid')['request_time'].min()\n",
    "    mints = pd.DataFrame(min_timestamp_per_message)\n",
    "    mints = mints.rename({\"request_time\":\"min_request_time\"}, axis='columns')\n",
    "    return mints\n",
    "\n",
    "min_clicks = calc_min_click_time(gdf)\n",
    "min_clicks.head().copy().reset_index().drop('farm_mid', axis='columns')"
   ]
  },
  {
   "cell_type": "code",
   "execution_count": 265,
   "metadata": {},
   "outputs": [
    {
     "data": {
      "text/html": [
       "<div>\n",
       "<style scoped>\n",
       "    .dataframe tbody tr th:only-of-type {\n",
       "        vertical-align: middle;\n",
       "    }\n",
       "\n",
       "    .dataframe tbody tr th {\n",
       "        vertical-align: top;\n",
       "    }\n",
       "\n",
       "    .dataframe thead th {\n",
       "        text-align: right;\n",
       "    }\n",
       "</style>\n",
       "<table border=\"1\" class=\"dataframe\">\n",
       "  <thead>\n",
       "    <tr style=\"text-align: right;\">\n",
       "      <th></th>\n",
       "      <th>min_request_time</th>\n",
       "      <th>request_time</th>\n",
       "      <th>click_delay</th>\n",
       "    </tr>\n",
       "    <tr>\n",
       "      <th>index</th>\n",
       "      <th></th>\n",
       "      <th></th>\n",
       "      <th></th>\n",
       "    </tr>\n",
       "  </thead>\n",
       "  <tbody>\n",
       "    <tr>\n",
       "      <th>938615</th>\n",
       "      <td>2020-01-15 18:19:13+00:00</td>\n",
       "      <td>2020-01-16 00:15:42+00:00</td>\n",
       "      <td>05:56:29</td>\n",
       "    </tr>\n",
       "    <tr>\n",
       "      <th>211371</th>\n",
       "      <td>2020-01-13 03:12:18+00:00</td>\n",
       "      <td>2020-01-13 03:58:53+00:00</td>\n",
       "      <td>00:46:35</td>\n",
       "    </tr>\n",
       "    <tr>\n",
       "      <th>871135</th>\n",
       "      <td>2020-01-08 21:09:59+00:00</td>\n",
       "      <td>2020-01-08 21:21:42+00:00</td>\n",
       "      <td>00:11:43</td>\n",
       "    </tr>\n",
       "    <tr>\n",
       "      <th>778663</th>\n",
       "      <td>2020-01-15 11:15:44+00:00</td>\n",
       "      <td>2020-01-15 11:16:13+00:00</td>\n",
       "      <td>00:00:29</td>\n",
       "    </tr>\n",
       "    <tr>\n",
       "      <th>1616869</th>\n",
       "      <td>2020-01-18 21:08:55+00:00</td>\n",
       "      <td>2020-01-18 21:20:01+00:00</td>\n",
       "      <td>00:11:06</td>\n",
       "    </tr>\n",
       "    <tr>\n",
       "      <th>745248</th>\n",
       "      <td>2020-01-15 04:39:11+00:00</td>\n",
       "      <td>2020-01-15 05:46:20+00:00</td>\n",
       "      <td>01:07:09</td>\n",
       "    </tr>\n",
       "    <tr>\n",
       "      <th>71761</th>\n",
       "      <td>2019-12-29 14:01:19+00:00</td>\n",
       "      <td>2019-12-29 16:09:48+00:00</td>\n",
       "      <td>02:08:29</td>\n",
       "    </tr>\n",
       "    <tr>\n",
       "      <th>983349</th>\n",
       "      <td>2020-01-08 22:17:28+00:00</td>\n",
       "      <td>2020-01-09 06:15:09+00:00</td>\n",
       "      <td>07:57:41</td>\n",
       "    </tr>\n",
       "    <tr>\n",
       "      <th>628028</th>\n",
       "      <td>2020-01-14 18:21:40+00:00</td>\n",
       "      <td>2020-01-14 20:07:48+00:00</td>\n",
       "      <td>01:46:08</td>\n",
       "    </tr>\n",
       "    <tr>\n",
       "      <th>506474</th>\n",
       "      <td>2020-01-07 10:31:23+00:00</td>\n",
       "      <td>2020-01-07 11:46:13+00:00</td>\n",
       "      <td>01:14:50</td>\n",
       "    </tr>\n",
       "  </tbody>\n",
       "</table>\n",
       "</div>"
      ],
      "text/plain": [
       "                 min_request_time              request_time click_delay\n",
       "index                                                                  \n",
       "938615  2020-01-15 18:19:13+00:00 2020-01-16 00:15:42+00:00    05:56:29\n",
       "211371  2020-01-13 03:12:18+00:00 2020-01-13 03:58:53+00:00    00:46:35\n",
       "871135  2020-01-08 21:09:59+00:00 2020-01-08 21:21:42+00:00    00:11:43\n",
       "778663  2020-01-15 11:15:44+00:00 2020-01-15 11:16:13+00:00    00:00:29\n",
       "1616869 2020-01-18 21:08:55+00:00 2020-01-18 21:20:01+00:00    00:11:06\n",
       "745248  2020-01-15 04:39:11+00:00 2020-01-15 05:46:20+00:00    01:07:09\n",
       "71761   2019-12-29 14:01:19+00:00 2019-12-29 16:09:48+00:00    02:08:29\n",
       "983349  2020-01-08 22:17:28+00:00 2020-01-09 06:15:09+00:00    07:57:41\n",
       "628028  2020-01-14 18:21:40+00:00 2020-01-14 20:07:48+00:00    01:46:08\n",
       "506474  2020-01-07 10:31:23+00:00 2020-01-07 11:46:13+00:00    01:14:50"
      ]
     },
     "execution_count": 265,
     "metadata": {},
     "output_type": "execute_result"
    }
   ],
   "source": [
    "# Then join back to the original data.\n",
    "if 'min_request_time' not in gdf.columns:\n",
    "    gdf = gdf.join(min_clicks, 'farm_mid')\n",
    "    \n",
    "# Now we can calculate the 'delay' for each click vs. the earlieset click time.\n",
    "gdf['click_delay'] = gdf.request_time - gdf.min_request_time\n",
    "\n",
    "gdf['clickdelay_minutes'] = gdf.click_delay / pd.Timedelta(minutes=1)\n",
    "gdf['clickdelay_hours'] = gdf.click_delay / pd.Timedelta(hours=1)\n",
    "\n",
    "# Look at some values.\n",
    "gdf[['min_request_time', 'request_time', 'click_delay']].sample(10)"
   ]
  },
  {
   "cell_type": "code",
   "execution_count": 266,
   "metadata": {},
   "outputs": [],
   "source": [
    "## Let's set up some functions that help us look at delivery timing."
   ]
  },
  {
   "cell_type": "code",
   "execution_count": 295,
   "metadata": {},
   "outputs": [],
   "source": [
    "def ua_analyzer(df, column, value):\n",
    "    d2 = df[df[column] == value]\n",
    "    ua_cols = [i for i in df.columns if 'request_header_user_agent' in i]\n",
    "    \n",
    "    print(\"count:\", d2.shape[0])\n",
    "    \n",
    "    for i in ua_cols:\n",
    "        print(i + \":\")\n",
    "        print(d2[i].value_counts().head())\n",
    "        print()\n",
    "    if column != 'ip_slash24':\n",
    "        print(\"IP/24s:\\n{}\\n\".format(d2['ip_slash24'].value_counts().head(8)))\n",
    "    print(\"AS Orgs:\\n{}\\n\".format(d2['as_org'].value_counts().head(8)))\n",
    "    if column != 'netblock':\n",
    "        print(\"Netblocks:\\n{}\\n\".format(d2['netblock'].value_counts().head(8)))\n",
    "    show_delay_pctiles(d2, 'clickdelay_minutes')\n",
    "    hist(d2)\n",
    "\n",
    "\n",
    "def show_delay_pctiles(df, column='clickdelay_minutes', quantiles=None):\n",
    "    \n",
    "    print(\"Percentiles for {}:\".format(column))\n",
    "\n",
    "    if not quantiles:\n",
    "        # use default\n",
    "        quantiles = [0.05, 0.25, 0.5, 0.75, 0.95]\n",
    "\n",
    "    for i in quantiles:\n",
    "        delay_mins = df[column].quantile(i)\n",
    "\n",
    "        delay = datetime.timedelta(minutes=delay_mins)\n",
    "        delay = delay - datetime.timedelta(microseconds=delay.microseconds)\n",
    "        print(100*i, delay, sep=\"\\t\")\n",
    "    \n",
    "\n",
    "def hist(df, graph_col='clickdelay_minutes', upper_bound=None):\n",
    "    \n",
    "    if not upper_bound:\n",
    "        # calc based on data\n",
    "        pctile = 0.8\n",
    "        pctile_value = df[graph_col].quantile(pctile)\n",
    "        \n",
    "        # bounds check\n",
    "        if pctile_value < 0.05:\n",
    "            pctile_value = 0.1\n",
    "\n",
    "        print(\"{}th percentile: {}\".format(100*pctile, round(pctile_value,1)))\n",
    "              \n",
    "        #upper_bound = cdftop1['clickdelay_minutes'].mean() + 1 + 2 * cdftop1['clickdelay_minutes'].std()\n",
    "        upper_bound = pctile_value * 1.1\n",
    "\n",
    "    # Calculate bins, evenly spaced\n",
    "    bin_count = 100\n",
    "    bins = [(i * upper_bound / bin_count) for i in range(bin_count+1)]\n",
    "\n",
    "\n",
    "    df.hist(column=graph_col, bins=bins, figsize=(18,10))"
   ]
  },
  {
   "cell_type": "code",
   "execution_count": 296,
   "metadata": {},
   "outputs": [
    {
     "name": "stdout",
     "output_type": "stream",
     "text": [
      "Percentiles for clickdelay_minutes:\n",
      "5.0\t0:06:53\n",
      "25.0\t0:58:40\n",
      "50.0\t3:16:52\n",
      "75.0\t11:33:19\n",
      "95.0\t2 days, 0:51:48\n"
     ]
    }
   ],
   "source": [
    "show_delay_pctiles(gdf)"
   ]
  },
  {
   "cell_type": "code",
   "execution_count": 297,
   "metadata": {},
   "outputs": [
    {
     "data": {
      "image/png": "[encoded data removed]",
      "text/plain": [
       "<Figure size 1296x720 with 1 Axes>"
      ]
     },
     "metadata": {
      "needs_background": "light"
     },
     "output_type": "display_data"
    }
   ],
   "source": [
    "hist(gdf, upper_bound=1000)"
   ]
  },
  {
   "cell_type": "markdown",
   "metadata": {},
   "source": [
    "## Let's dig into some of those user-agents."
   ]
  },
  {
   "cell_type": "code",
   "execution_count": 298,
   "metadata": {},
   "outputs": [
    {
     "data": {
      "text/plain": [
       "Mozilla/5.0 (iPhone; CPU iPhone OS 13_3 like Mac OS X) AppleWebKit/605.1.15 (KHTML, like Gecko) Version/13.0.4 Mobile/15E148 Safari/604.1                6899\n",
       "Mozilla/5.0 (Windows NT 10.0; Win64; x64) AppleWebKit/537.36 (KHTML, like Gecko) Chrome/79.0.3945.88 Safari/537.36                                       2195\n",
       "Mozilla/5.0 (iPhone; CPU iPhone OS 13_3 like Mac OS X) AppleWebKit/605.1.15 (KHTML, like Gecko) CriOS/79.0.3945.73 Mobile/15E148 Safari/604.1            2107\n",
       "Mozilla/5.0 (Windows NT 5.1) AppleWebKit/537.36 (KHTML, like Gecko) Chrome/45.0.2454.93 Safari/537.36                                                    1221\n",
       "Mozilla/5.0 (Linux; Android 9; LM-Q720) AppleWebKit/537.36 (KHTML, like Gecko) Chrome/79.0.3945.93 Mobile Safari/537.36                                   900\n",
       "Mozilla/5.0 (iPhone; CPU iPhone OS 12_1_4 like Mac OS X) AppleWebKit/605.1.15 (KHTML, like Gecko) Version/12.0 Mobile/15E148 Safari/604.1                 748\n",
       "Mozilla/5.0 (Windows NT 10.0; Win64; x64) AppleWebKit/537.36 (KHTML, like Gecko) Chrome/79.0.3945.117 Safari/537.36                                       709\n",
       "Mozilla/5.0 (Linux; Android 8.0.0; moto e5 play Build/OCPS27.91-23-3) AppleWebKit/537.36 (KHTML, like Gecko) Chrome/68.0.3440.91 Mobile Safari/537.36     700\n",
       "Mozilla/5.0 (Linux; Android 5.1.1; A570BL Build/LMY47V) AppleWebKit/537.36 (KHTML, like Gecko) Version/4.0 Chrome/38.0.2125.102 Mobile Safari/537.36      627\n",
       "Mozilla/5.0 (Linux; Android 8.1.0; LM-X210APM) AppleWebKit/537.36 (KHTML, like Gecko) Chrome/76.0.3809.132 Mobile Safari/537.36                           581\n",
       "Mozilla/5.0 (Linux; Android 9; SAMSUNG SM-G960U) AppleWebKit/537.36 (KHTML, like Gecko) SamsungBrowser/10.2 Chrome/71.0.3578.99 Mobile Safari/537.36      575\n",
       "Mozilla/5.0 (Linux; U; Android 4.0.3; en-us; MID8048 Build/IML74K) AppleWebKit/534.30 (KHTML, like Gecko) Version/4.0 Safari/534.30                       529\n",
       "Mozilla/5.0 (Linux; Android 9; LM-Q720) AppleWebKit/537.36 (KHTML, like Gecko) Chrome/79.0.3945.116 Mobile Safari/537.36                                  529\n",
       "Mozilla/5.0 (Linux; Android 8.0.0; moto e5 play) AppleWebKit/537.36 (KHTML, like Gecko) Chrome/79.0.3945.93 Mobile Safari/537.36                          505\n",
       "Mozilla/5.0 (Windows NT 10.0; Win64; x64) AppleWebKit/537.36 (KHTML, like Gecko) Chrome/70.0.3538.102 Safari/537.36 Edge/18.18362                         501\n",
       "Name: request_header_user_agent, dtype: int64"
      ]
     },
     "execution_count": 298,
     "metadata": {},
     "output_type": "execute_result"
    }
   ],
   "source": [
    "c = df_counts(gdf, 'request_header_user_agent', head=20)\n",
    "gdf.request_header_user_agent.value_counts().head(15)"
   ]
  },
  {
   "cell_type": "code",
   "execution_count": 299,
   "metadata": {},
   "outputs": [
    {
     "name": "stdout",
     "output_type": "stream",
     "text": [
      "Mozilla/5.0 (Linux; Android 8.0.0; moto e5 play Build/OCPS27.91-23-3) AppleWebKit/537.36 (KHTML, like Gecko) Chrome/68.0.3440.91 Mobile Safari/537.36\n",
      "count: 700\n",
      "request_header_user_agent:\n",
      "Mozilla/5.0 (Linux; Android 8.0.0; moto e5 play Build/OCPS27.91-23-3) AppleWebKit/537.36 (KHTML, like Gecko) Chrome/68.0.3440.91 Mobile Safari/537.36    700\n",
      "Name: request_header_user_agent, dtype: int64\n",
      "\n",
      "request_header_user_agent__browser__family:\n",
      "Chrome Mobile    700\n",
      "Name: request_header_user_agent__browser__family, dtype: int64\n",
      "\n",
      "request_header_user_agent__browser__version_string:\n",
      "68.0.3440    700\n",
      "Name: request_header_user_agent__browser__version_string, dtype: int64\n",
      "\n",
      "request_header_user_agent__os__family:\n",
      "Android    700\n",
      "Name: request_header_user_agent__os__family, dtype: int64\n",
      "\n",
      "request_header_user_agent__os__version_string:\n",
      "8.0.0    700\n",
      "Name: request_header_user_agent__os__version_string, dtype: int64\n",
      "\n",
      "request_header_user_agent__is_mobile:\n",
      "True    700\n",
      "Name: request_header_user_agent__is_mobile, dtype: int64\n",
      "\n",
      "IP/24s:\n",
      "18.191.53.0     19\n",
      "34.222.222.0    17\n",
      "18.223.28.0     15\n",
      "3.137.41.0      13\n",
      "54.89.97.0      11\n",
      "3.135.186.0     11\n",
      "3.80.229.0      11\n",
      "54.203.167.0    10\n",
      "Name: ip_slash24, dtype: int64\n",
      "\n",
      "AS Orgs:\n",
      "AMAZON-02, US     469\n",
      "AMAZON-AES, US    231\n",
      "Name: as_org, dtype: int64\n",
      "\n",
      "Netblocks:\n",
      "34.208.0.0/12    87\n",
      "18.220.0.0/14    66\n",
      "3.80.0.0/12      65\n",
      "3.132.0.0/14     41\n",
      "18.216.0.0/14    39\n",
      "18.191.0.0/16    25\n",
      "18.236.0.0/15    19\n",
      "3.136.0.0/13     19\n",
      "Name: netblock, dtype: int64\n",
      "\n",
      "Percentiles for clickdelay_minutes:\n",
      "5.0\t1:09:46\n",
      "25.0\t4:26:25\n",
      "50.0\t9:21:45\n",
      "75.0\t15:51:36\n",
      "95.0\t1 day, 2:46:17\n",
      "80.0th percentile: 1084.1\n"
     ]
    },
    {
     "data": {
      "image/png": "[encoded data removed]",
      "text/plain": [
       "<Figure size 1296x720 with 1 Axes>"
      ]
     },
     "metadata": {
      "needs_background": "light"
     },
     "output_type": "display_data"
    }
   ],
   "source": [
    "# suspicious = 3 (chrome 45), 7-8 (chrome 68, 38), \n",
    "ua = c.request_header_user_agent.tolist()[7]\n",
    "print(ua)\n",
    "\n",
    "ua_analyzer(gdf, 'request_header_user_agent', ua)"
   ]
  },
  {
   "cell_type": "code",
   "execution_count": 300,
   "metadata": {},
   "outputs": [
    {
     "name": "stdout",
     "output_type": "stream",
     "text": [
      "Mozilla/5.0 (Windows NT 5.1) AppleWebKit/537.36 (KHTML, like Gecko) Chrome/45.0.2454.93 Safari/537.36\n",
      "Mozilla/5.0 (Linux; Android 8.0.0; moto e5 play Build/OCPS27.91-23-3) AppleWebKit/537.36 (KHTML, like Gecko) Chrome/68.0.3440.91 Mobile Safari/537.36\n",
      "Mozilla/5.0 (Linux; Android 5.1.1; A570BL Build/LMY47V) AppleWebKit/537.36 (KHTML, like Gecko) Version/4.0 Chrome/38.0.2125.102 Mobile Safari/537.36\n"
     ]
    }
   ],
   "source": [
    "g_suspicious_uas = []\n",
    "for i in [3, 7, 8]:\n",
    "    g_suspicious_uas.append(c.request_header_user_agent.tolist()[i])\n",
    "\n",
    "for i in g_suspicious_uas:\n",
    "    print(i)"
   ]
  },
  {
   "cell_type": "code",
   "execution_count": 301,
   "metadata": {},
   "outputs": [
    {
     "data": {
      "text/html": [
       "<div>\n",
       "<style scoped>\n",
       "    .dataframe tbody tr th:only-of-type {\n",
       "        vertical-align: middle;\n",
       "    }\n",
       "\n",
       "    .dataframe tbody tr th {\n",
       "        vertical-align: top;\n",
       "    }\n",
       "\n",
       "    .dataframe thead th {\n",
       "        text-align: right;\n",
       "    }\n",
       "</style>\n",
       "<table border=\"1\" class=\"dataframe\">\n",
       "  <thead>\n",
       "    <tr style=\"text-align: right;\">\n",
       "      <th></th>\n",
       "      <th>netblock</th>\n",
       "      <th>as_org</th>\n",
       "      <th>netblock_count</th>\n",
       "    </tr>\n",
       "  </thead>\n",
       "  <tbody>\n",
       "    <tr>\n",
       "      <th>0</th>\n",
       "      <td>73.0.0.0/8</td>\n",
       "      <td>COMCAST-7922, US</td>\n",
       "      <td>3658</td>\n",
       "    </tr>\n",
       "    <tr>\n",
       "      <th>1</th>\n",
       "      <td>74.125.0.0/16</td>\n",
       "      <td>GOOGLE, US</td>\n",
       "      <td>2367</td>\n",
       "    </tr>\n",
       "    <tr>\n",
       "      <th>2</th>\n",
       "      <td>172.58.136.0/21</td>\n",
       "      <td>T-MOBILE-AS21928, US</td>\n",
       "      <td>1435</td>\n",
       "    </tr>\n",
       "    <tr>\n",
       "      <th>3</th>\n",
       "      <td>172.58.104.0/21</td>\n",
       "      <td>T-MOBILE-AS21928, US</td>\n",
       "      <td>1270</td>\n",
       "    </tr>\n",
       "    <tr>\n",
       "      <th>4</th>\n",
       "      <td>34.208.0.0/12</td>\n",
       "      <td>AMAZON-02, US</td>\n",
       "      <td>1251</td>\n",
       "    </tr>\n",
       "    <tr>\n",
       "      <th>5</th>\n",
       "      <td>66.102.0.0/20</td>\n",
       "      <td>GOOGLE, US</td>\n",
       "      <td>1066</td>\n",
       "    </tr>\n",
       "    <tr>\n",
       "      <th>6</th>\n",
       "      <td>66.249.88.0/24</td>\n",
       "      <td>GOOGLE, US</td>\n",
       "      <td>1052</td>\n",
       "    </tr>\n",
       "    <tr>\n",
       "      <th>7</th>\n",
       "      <td>172.58.152.0/21</td>\n",
       "      <td>T-MOBILE-AS21928, US</td>\n",
       "      <td>916</td>\n",
       "    </tr>\n",
       "    <tr>\n",
       "      <th>8</th>\n",
       "      <td>3.80.0.0/12</td>\n",
       "      <td>AMAZON-AES, US</td>\n",
       "      <td>865</td>\n",
       "    </tr>\n",
       "    <tr>\n",
       "      <th>9</th>\n",
       "      <td>172.58.168.0/21</td>\n",
       "      <td>T-MOBILE-AS21928, US</td>\n",
       "      <td>861</td>\n",
       "    </tr>\n",
       "  </tbody>\n",
       "</table>\n",
       "</div>"
      ],
      "text/plain": [
       "          netblock                as_org  netblock_count\n",
       "0       73.0.0.0/8      COMCAST-7922, US            3658\n",
       "1    74.125.0.0/16            GOOGLE, US            2367\n",
       "2  172.58.136.0/21  T-MOBILE-AS21928, US            1435\n",
       "3  172.58.104.0/21  T-MOBILE-AS21928, US            1270\n",
       "4    34.208.0.0/12         AMAZON-02, US            1251\n",
       "5    66.102.0.0/20            GOOGLE, US            1066\n",
       "6   66.249.88.0/24            GOOGLE, US            1052\n",
       "7  172.58.152.0/21  T-MOBILE-AS21928, US             916\n",
       "8      3.80.0.0/12        AMAZON-AES, US             865\n",
       "9  172.58.168.0/21  T-MOBILE-AS21928, US             861"
      ]
     },
     "execution_count": 301,
     "metadata": {},
     "output_type": "execute_result"
    }
   ],
   "source": [
    "d = df_counts(gdf, 'netblock', head=20)\n",
    "value_counts_multi(gdf, 'netblock', ['netblock','as_org']).head(10)"
   ]
  },
  {
   "cell_type": "code",
   "execution_count": 302,
   "metadata": {},
   "outputs": [],
   "source": [
    "def nblock_to_ip(nb):\n",
    "    return nb.split(\"/\")[0]"
   ]
  },
  {
   "cell_type": "code",
   "execution_count": 303,
   "metadata": {},
   "outputs": [
    {
     "name": "stdout",
     "output_type": "stream",
     "text": [
      "('34.208.0.0/12', 'AMAZON-02, US')\n",
      "count: 1251\n",
      "request_header_user_agent:\n",
      "Mozilla/5.0 (Windows NT 5.1) AppleWebKit/537.36 (KHTML, like Gecko) Chrome/45.0.2454.93 Safari/537.36                                                    172\n",
      "Mozilla/5.0 (iPhone; CPU iPhone OS 12_1_4 like Mac OS X) AppleWebKit/605.1.15 (KHTML, like Gecko) Version/12.0 Mobile/15E148 Safari/604.1                 98\n",
      "Mozilla/5.0 (Linux; Android 8.0.0; moto e5 play Build/OCPS27.91-23-3) AppleWebKit/537.36 (KHTML, like Gecko) Chrome/68.0.3440.91 Mobile Safari/537.36     87\n",
      "Mozilla/5.0 (Linux; Android 8.1.0; LM-X210APM) AppleWebKit/537.36 (KHTML, like Gecko) Chrome/76.0.3809.132 Mobile Safari/537.36                           76\n",
      "Mozilla/5.0 (Linux; Android 5.1.1; A570BL Build/LMY47V) AppleWebKit/537.36 (KHTML, like Gecko) Version/4.0 Chrome/38.0.2125.102 Mobile Safari/537.36      61\n",
      "Name: request_header_user_agent, dtype: int64\n",
      "\n",
      "request_header_user_agent__browser__family:\n",
      "Chrome Mobile    845\n",
      "Chrome           195\n",
      "Mobile Safari    139\n",
      "Android           55\n",
      "Edge              10\n",
      "Name: request_header_user_agent__browser__family, dtype: int64\n",
      "\n",
      "request_header_user_agent__browser__version_string:\n",
      "45.0.2454    172\n",
      "76.0.3809    111\n",
      "68.0.3440    103\n",
      "12.0          98\n",
      "62.0.3202     94\n",
      "Name: request_header_user_agent__browser__version_string, dtype: int64\n",
      "\n",
      "request_header_user_agent__os__family:\n",
      "Android    908\n",
      "Windows    202\n",
      "iOS        141\n",
      "Name: request_header_user_agent__os__family, dtype: int64\n",
      "\n",
      "request_header_user_agent__os__version_string:\n",
      "8.1.0    236\n",
      "XP       172\n",
      "8.0.0    143\n",
      "6.0.1    141\n",
      "7.1.1    134\n",
      "Name: request_header_user_agent__os__version_string, dtype: int64\n",
      "\n",
      "request_header_user_agent__is_mobile:\n",
      "True     994\n",
      "False    257\n",
      "Name: request_header_user_agent__is_mobile, dtype: int64\n",
      "\n",
      "IP/24s:\n",
      "34.211.142.0    25\n",
      "34.219.138.0    24\n",
      "34.221.241.0    24\n",
      "34.220.199.0    23\n",
      "34.212.16.0     22\n",
      "34.217.116.0    22\n",
      "34.222.218.0    22\n",
      "34.211.113.0    21\n",
      "Name: ip_slash24, dtype: int64\n",
      "\n",
      "AS Orgs:\n",
      "AMAZON-02, US    1251\n",
      "Name: as_org, dtype: int64\n",
      "\n",
      "Percentiles for clickdelay_minutes:\n",
      "5.0\t1:44:14\n",
      "25.0\t5:31:57\n",
      "50.0\t10:14:25\n",
      "75.0\t16:24:04\n",
      "95.0\t1 day, 11:05:46\n",
      "80.0th percentile: 1099.8\n"
     ]
    },
    {
     "data": {
      "image/png": "[encoded data removed]",
      "text/plain": [
       "<Figure size 1296x720 with 1 Axes>"
      ]
     },
     "metadata": {
      "needs_background": "light"
     },
     "output_type": "display_data"
    }
   ],
   "source": [
    "# suspicous: 4,\n",
    "nblock = d.netblock.tolist()[4]\n",
    "print(asndb.get_asn_details(nblock_to_ip(nblock))[1:])\n",
    "ua_analyzer(gdf, 'netblock', nblock)"
   ]
  },
  {
   "cell_type": "code",
   "execution_count": 305,
   "metadata": {},
   "outputs": [
    {
     "name": "stdout",
     "output_type": "stream",
     "text": [
      "['34.208.0.0/12']\n"
     ]
    }
   ],
   "source": [
    "g_suspicious_nbs = []\n",
    "for i in [4]:\n",
    "    g_suspicious_nbs.append(d.netblock.tolist()[i])\n",
    "    \n",
    "print(g_suspicious_nbs)"
   ]
  },
  {
   "cell_type": "code",
   "execution_count": 306,
   "metadata": {},
   "outputs": [
    {
     "data": {
      "text/plain": [
       "False    97.114546\n",
       "True      2.885454\n",
       "Name: suspicious_ua, dtype: float64"
      ]
     },
     "execution_count": 306,
     "metadata": {},
     "output_type": "execute_result"
    }
   ],
   "source": [
    "## Let's set columns for any row with a UA or IP in these lists so we can determine how many rows we're talking about.\n",
    "\n",
    "gdf['suspicious_ua'] = gdf['request_header_user_agent'].isin(g_suspicious_uas)\n",
    "gdf['suspicious_ua'].value_counts(normalize=True) * 100"
   ]
  },
  {
   "cell_type": "code",
   "execution_count": 307,
   "metadata": {},
   "outputs": [
    {
     "data": {
      "text/plain": [
       "False    98.583319\n",
       "True      1.416681\n",
       "Name: suspicious_nb, dtype: float64"
      ]
     },
     "execution_count": 307,
     "metadata": {},
     "output_type": "execute_result"
    }
   ],
   "source": [
    "gdf['suspicious_nb'] = gdf['netblock'].isin(g_suspicious_nbs)\n",
    "gdf['suspicious_nb'].value_counts(normalize=True) * 100"
   ]
  },
  {
   "cell_type": "code",
   "execution_count": 308,
   "metadata": {},
   "outputs": [
    {
     "data": {
      "text/plain": [
       "False    99.63762\n",
       "True      0.36238\n",
       "Name: both_suspicious, dtype: float64"
      ]
     },
     "execution_count": 308,
     "metadata": {},
     "output_type": "execute_result"
    }
   ],
   "source": [
    "gdf['both_suspicious'] = gdf[['suspicious_ua', 'suspicious_nb']].all(1)\n",
    "gdf['both_suspicious'].value_counts(normalize=True) * 100"
   ]
  },
  {
   "cell_type": "code",
   "execution_count": 309,
   "metadata": {},
   "outputs": [
    {
     "data": {
      "text/plain": [
       "False    96.060246\n",
       "True      3.939754\n",
       "Name: either_suspicious, dtype: float64"
      ]
     },
     "execution_count": 309,
     "metadata": {},
     "output_type": "execute_result"
    }
   ],
   "source": [
    "gdf['either_suspicious'] = gdf[['suspicious_ua', 'suspicious_nb']].any(1)\n",
    "gdf['either_suspicious'].value_counts(normalize=True) * 100"
   ]
  },
  {
   "cell_type": "markdown",
   "metadata": {},
   "source": [
    "## Now, let's look at some data that has a bit more more automated activity in it."
   ]
  },
  {
   "cell_type": "code",
   "execution_count": 310,
   "metadata": {},
   "outputs": [
    {
     "name": "stdout",
     "output_type": "stream",
     "text": [
      "CPU times: user 1.65 s, sys: 504 ms, total: 2.15 s\n",
      "Wall time: 2.58 s\n"
     ]
    },
    {
     "data": {
      "text/plain": [
       "(397643, 26)"
      ]
     },
     "execution_count": 310,
     "metadata": {},
     "output_type": "execute_result"
    }
   ],
   "source": [
    "%time bdf = pd.read_pickle('not_so_good_20200216.p')\n",
    "bdf.shape"
   ]
  },
  {
   "cell_type": "code",
   "execution_count": 311,
   "metadata": {},
   "outputs": [
    {
     "data": {
      "text/html": [
       "<div>\n",
       "<style scoped>\n",
       "    .dataframe tbody tr th:only-of-type {\n",
       "        vertical-align: middle;\n",
       "    }\n",
       "\n",
       "    .dataframe tbody tr th {\n",
       "        vertical-align: top;\n",
       "    }\n",
       "\n",
       "    .dataframe thead th {\n",
       "        text-align: right;\n",
       "    }\n",
       "</style>\n",
       "<table border=\"1\" class=\"dataframe\">\n",
       "  <thead>\n",
       "    <tr style=\"text-align: right;\">\n",
       "      <th></th>\n",
       "      <th>min_request_time</th>\n",
       "      <th>request_time</th>\n",
       "      <th>click_delay</th>\n",
       "      <th>clickdelay_minutes</th>\n",
       "    </tr>\n",
       "    <tr>\n",
       "      <th>index</th>\n",
       "      <th></th>\n",
       "      <th></th>\n",
       "      <th></th>\n",
       "      <th></th>\n",
       "    </tr>\n",
       "  </thead>\n",
       "  <tbody>\n",
       "    <tr>\n",
       "      <th>308774</th>\n",
       "      <td>2019-12-29 03:16:48+00:00</td>\n",
       "      <td>2020-01-11 11:18:38+00:00</td>\n",
       "      <td>13 days 08:01:50</td>\n",
       "      <td>19201.833333</td>\n",
       "    </tr>\n",
       "    <tr>\n",
       "      <th>227425</th>\n",
       "      <td>2020-01-17 13:07:59+00:00</td>\n",
       "      <td>2020-01-18 03:52:25+00:00</td>\n",
       "      <td>0 days 14:44:26</td>\n",
       "      <td>884.433333</td>\n",
       "    </tr>\n",
       "    <tr>\n",
       "      <th>306367</th>\n",
       "      <td>2019-12-30 00:25:47+00:00</td>\n",
       "      <td>2020-01-04 14:59:00+00:00</td>\n",
       "      <td>5 days 14:33:13</td>\n",
       "      <td>8073.216667</td>\n",
       "    </tr>\n",
       "    <tr>\n",
       "      <th>179037</th>\n",
       "      <td>2020-01-09 23:20:48+00:00</td>\n",
       "      <td>2020-01-09 23:21:14+00:00</td>\n",
       "      <td>0 days 00:00:26</td>\n",
       "      <td>0.433333</td>\n",
       "    </tr>\n",
       "    <tr>\n",
       "      <th>165523</th>\n",
       "      <td>2020-01-01 15:14:04+00:00</td>\n",
       "      <td>2020-01-01 16:50:45+00:00</td>\n",
       "      <td>0 days 01:36:41</td>\n",
       "      <td>96.683333</td>\n",
       "    </tr>\n",
       "  </tbody>\n",
       "</table>\n",
       "</div>"
      ],
      "text/plain": [
       "                min_request_time              request_time      click_delay  \\\n",
       "index                                                                         \n",
       "308774 2019-12-29 03:16:48+00:00 2020-01-11 11:18:38+00:00 13 days 08:01:50   \n",
       "227425 2020-01-17 13:07:59+00:00 2020-01-18 03:52:25+00:00  0 days 14:44:26   \n",
       "306367 2019-12-30 00:25:47+00:00 2020-01-04 14:59:00+00:00  5 days 14:33:13   \n",
       "179037 2020-01-09 23:20:48+00:00 2020-01-09 23:21:14+00:00  0 days 00:00:26   \n",
       "165523 2020-01-01 15:14:04+00:00 2020-01-01 16:50:45+00:00  0 days 01:36:41   \n",
       "\n",
       "        clickdelay_minutes  \n",
       "index                       \n",
       "308774        19201.833333  \n",
       "227425          884.433333  \n",
       "306367         8073.216667  \n",
       "179037            0.433333  \n",
       "165523           96.683333  "
      ]
     },
     "execution_count": 311,
     "metadata": {},
     "output_type": "execute_result"
    }
   ],
   "source": [
    "# Add the click delay columns to this new dataset.\n",
    "\n",
    "min_clicks = calc_min_click_time(bdf)\n",
    "\n",
    "# Then join back to the original data.\n",
    "if 'min_request_time' not in bdf.columns:\n",
    "    bdf = bdf.join(min_clicks, 'farm_mid')\n",
    "    \n",
    "# Now we can calculate the 'delay' for each click vs. the earlieset click time.\n",
    "bdf['click_delay'] = bdf.request_time - bdf.min_request_time\n",
    "\n",
    "# And set a numeric time column for doing operations that require a numeric type.\n",
    "bdf['clickdelay_minutes'] = bdf.click_delay / pd.Timedelta(minutes=1)\n",
    "bdf['clickdelay_hours'] = bdf.click_delay / pd.Timedelta(hours=1)\n",
    "\n",
    "# Look at some values.\n",
    "bdf[['min_request_time', 'request_time', 'click_delay', 'clickdelay_minutes']].sample(5)"
   ]
  },
  {
   "cell_type": "code",
   "execution_count": 312,
   "metadata": {},
   "outputs": [
    {
     "data": {
      "text/html": [
       "<div>\n",
       "<style scoped>\n",
       "    .dataframe tbody tr th:only-of-type {\n",
       "        vertical-align: middle;\n",
       "    }\n",
       "\n",
       "    .dataframe tbody tr th {\n",
       "        vertical-align: top;\n",
       "    }\n",
       "\n",
       "    .dataframe thead th {\n",
       "        text-align: right;\n",
       "    }\n",
       "</style>\n",
       "<table border=\"1\" class=\"dataframe\">\n",
       "  <thead>\n",
       "    <tr style=\"text-align: right;\">\n",
       "      <th></th>\n",
       "      <th>netblock</th>\n",
       "      <th>as_org</th>\n",
       "      <th>remote_ip_count</th>\n",
       "    </tr>\n",
       "  </thead>\n",
       "  <tbody>\n",
       "    <tr>\n",
       "      <th>0</th>\n",
       "      <td>209.222.82.0/24</td>\n",
       "      <td>AMAZON-02, US</td>\n",
       "      <td>45828</td>\n",
       "    </tr>\n",
       "    <tr>\n",
       "      <th>1</th>\n",
       "      <td>65.154.226.0/24</td>\n",
       "      <td>PAN0001, US</td>\n",
       "      <td>12856</td>\n",
       "    </tr>\n",
       "    <tr>\n",
       "      <th>2</th>\n",
       "      <td>34.208.0.0/12</td>\n",
       "      <td>AMAZON-02, US</td>\n",
       "      <td>8403</td>\n",
       "    </tr>\n",
       "    <tr>\n",
       "      <th>3</th>\n",
       "      <td>40.64.0.0/10</td>\n",
       "      <td>MICROSOFT-CORP-MSN-AS-BLOCK, US</td>\n",
       "      <td>8307</td>\n",
       "    </tr>\n",
       "    <tr>\n",
       "      <th>4</th>\n",
       "      <td>45.41.128.0/18</td>\n",
       "      <td>WEB2OBJECTS, US</td>\n",
       "      <td>6582</td>\n",
       "    </tr>\n",
       "    <tr>\n",
       "      <th>5</th>\n",
       "      <td>73.0.0.0/8</td>\n",
       "      <td>COMCAST-7922, US</td>\n",
       "      <td>6529</td>\n",
       "    </tr>\n",
       "    <tr>\n",
       "      <th>6</th>\n",
       "      <td>74.125.0.0/16</td>\n",
       "      <td>GOOGLE, US</td>\n",
       "      <td>5121</td>\n",
       "    </tr>\n",
       "    <tr>\n",
       "      <th>7</th>\n",
       "      <td>66.102.8.0/23</td>\n",
       "      <td>GOOGLE, US</td>\n",
       "      <td>4847</td>\n",
       "    </tr>\n",
       "    <tr>\n",
       "      <th>8</th>\n",
       "      <td>64.233.172.0/23</td>\n",
       "      <td>GOOGLE, US</td>\n",
       "      <td>3946</td>\n",
       "    </tr>\n",
       "    <tr>\n",
       "      <th>9</th>\n",
       "      <td>107.0.0.0/14</td>\n",
       "      <td>COMCAST-7922, US</td>\n",
       "      <td>3862</td>\n",
       "    </tr>\n",
       "  </tbody>\n",
       "</table>\n",
       "</div>"
      ],
      "text/plain": [
       "          netblock                           as_org  remote_ip_count\n",
       "0  209.222.82.0/24                    AMAZON-02, US            45828\n",
       "1  65.154.226.0/24                      PAN0001, US            12856\n",
       "2    34.208.0.0/12                    AMAZON-02, US             8403\n",
       "3     40.64.0.0/10  MICROSOFT-CORP-MSN-AS-BLOCK, US             8307\n",
       "4   45.41.128.0/18                  WEB2OBJECTS, US             6582\n",
       "5       73.0.0.0/8                 COMCAST-7922, US             6529\n",
       "6    74.125.0.0/16                       GOOGLE, US             5121\n",
       "7    66.102.8.0/23                       GOOGLE, US             4847\n",
       "8  64.233.172.0/23                       GOOGLE, US             3946\n",
       "9     107.0.0.0/14                 COMCAST-7922, US             3862"
      ]
     },
     "execution_count": 312,
     "metadata": {},
     "output_type": "execute_result"
    }
   ],
   "source": [
    "value_counts_multi(bdf, 'remote_ip', ['netblock','as_org']).head(10)"
   ]
  },
  {
   "cell_type": "code",
   "execution_count": 314,
   "metadata": {},
   "outputs": [
    {
     "data": {
      "text/plain": [
       "Mozilla/4.0 (compatible; MSIE 8.0; Windows NT 6.1; Trident/4.0)                                                                                                                                   48167\n",
       "Mozilla/4.0 (compatible; MSIE 8.0; Windows NT 6.1; WOW64; Trident/4.0; SLCC2; .NET CLR 2.0.50727; .NET CLR 3.5.30729; .NET CLR 3.0.30729)                                                         47208\n",
       "Mozilla/5.0 (iPhone; CPU iPhone OS 13_3 like Mac OS X) AppleWebKit/605.1.15 (KHTML, like Gecko) Version/13.0.4 Mobile/15E148 Safari/604.1                                                         44731\n",
       "Mozilla/5.0 (Macintosh; Intel Mac OS X 10_11_6) AppleWebKit/537.36 (KHTML, like Gecko) Chrome/53.0.2785.143 Safari/537.36                                                                         17811\n",
       "Mozilla/5.0 (Windows NT 10.0; Win64; x64) AppleWebKit/537.36 (KHTML, like Gecko) Chrome/79.0.3945.88 Safari/537.36                                                                                10602\n",
       "Mozilla/5.0 (Windows NT 10.0; Win64; x64) AppleWebKit/537.36 (KHTML, like Gecko) Chrome/79.0.3945.117 Safari/537.36                                                                                8626\n",
       "Mozilla/5.0 (Windows NT 6.1; Win64; x64) AppleWebKit/537.36 (KHTML, like Gecko) Chrome/68.0.3440.106 Safari/537.36                                                                                 7894\n",
       "Mozilla/5.0 (Windows NT 10.0; Win64; x64) AppleWebKit/537.36 (KHTML, like Gecko) Chrome/57.0.2987.133 Safari/537.36                                                                                7666\n",
       "Mozilla/5.0 (Macintosh; Intel Mac OS X 10.14; rv:67.0) Gecko/20100101 Firefox/67.0                                                                                                                 6710\n",
       "Mozilla/4.0 (compatible; MSIE 8.0; Windows NT 6.1; WOW64; Trident/4.0; SLCC2; .NET CLR 2.0.50727; .NET CLR 3.5.30729; .NET CLR 3.0.30729; Media Center PC 6.0; .NET4.0C; .NET4.0E; InfoPath.2)     6040\n",
       "Name: request_header_user_agent, dtype: int64"
      ]
     },
     "execution_count": 314,
     "metadata": {},
     "output_type": "execute_result"
    }
   ],
   "source": [
    "bdf.request_header_user_agent.value_counts().head(10)"
   ]
  },
  {
   "cell_type": "markdown",
   "metadata": {},
   "source": [
    "## Some of these don't look right - let's dig into them a bit more.\n"
   ]
  },
  {
   "cell_type": "code",
   "execution_count": 315,
   "metadata": {},
   "outputs": [
    {
     "data": {
      "text/html": [
       "<div>\n",
       "<style scoped>\n",
       "    .dataframe tbody tr th:only-of-type {\n",
       "        vertical-align: middle;\n",
       "    }\n",
       "\n",
       "    .dataframe tbody tr th {\n",
       "        vertical-align: top;\n",
       "    }\n",
       "\n",
       "    .dataframe thead th {\n",
       "        text-align: right;\n",
       "    }\n",
       "</style>\n",
       "<table border=\"1\" class=\"dataframe\">\n",
       "  <thead>\n",
       "    <tr style=\"text-align: right;\">\n",
       "      <th></th>\n",
       "      <th>netblock</th>\n",
       "      <th>as_org</th>\n",
       "      <th>remote_ip_count</th>\n",
       "    </tr>\n",
       "  </thead>\n",
       "  <tbody>\n",
       "    <tr>\n",
       "      <th>0</th>\n",
       "      <td>209.222.82.0/24</td>\n",
       "      <td>AMAZON-02, US</td>\n",
       "      <td>45828</td>\n",
       "    </tr>\n",
       "    <tr>\n",
       "      <th>1</th>\n",
       "      <td>65.154.226.0/24</td>\n",
       "      <td>PAN0001, US</td>\n",
       "      <td>12856</td>\n",
       "    </tr>\n",
       "    <tr>\n",
       "      <th>2</th>\n",
       "      <td>34.208.0.0/12</td>\n",
       "      <td>AMAZON-02, US</td>\n",
       "      <td>8403</td>\n",
       "    </tr>\n",
       "    <tr>\n",
       "      <th>3</th>\n",
       "      <td>40.64.0.0/10</td>\n",
       "      <td>MICROSOFT-CORP-MSN-AS-BLOCK, US</td>\n",
       "      <td>8307</td>\n",
       "    </tr>\n",
       "    <tr>\n",
       "      <th>4</th>\n",
       "      <td>45.41.128.0/18</td>\n",
       "      <td>WEB2OBJECTS, US</td>\n",
       "      <td>6582</td>\n",
       "    </tr>\n",
       "    <tr>\n",
       "      <th>5</th>\n",
       "      <td>73.0.0.0/8</td>\n",
       "      <td>COMCAST-7922, US</td>\n",
       "      <td>6529</td>\n",
       "    </tr>\n",
       "    <tr>\n",
       "      <th>6</th>\n",
       "      <td>74.125.0.0/16</td>\n",
       "      <td>GOOGLE, US</td>\n",
       "      <td>5121</td>\n",
       "    </tr>\n",
       "    <tr>\n",
       "      <th>7</th>\n",
       "      <td>66.102.8.0/23</td>\n",
       "      <td>GOOGLE, US</td>\n",
       "      <td>4847</td>\n",
       "    </tr>\n",
       "    <tr>\n",
       "      <th>8</th>\n",
       "      <td>64.233.172.0/23</td>\n",
       "      <td>GOOGLE, US</td>\n",
       "      <td>3946</td>\n",
       "    </tr>\n",
       "    <tr>\n",
       "      <th>9</th>\n",
       "      <td>107.0.0.0/14</td>\n",
       "      <td>COMCAST-7922, US</td>\n",
       "      <td>3862</td>\n",
       "    </tr>\n",
       "  </tbody>\n",
       "</table>\n",
       "</div>"
      ],
      "text/plain": [
       "          netblock                           as_org  remote_ip_count\n",
       "0  209.222.82.0/24                    AMAZON-02, US            45828\n",
       "1  65.154.226.0/24                      PAN0001, US            12856\n",
       "2    34.208.0.0/12                    AMAZON-02, US             8403\n",
       "3     40.64.0.0/10  MICROSOFT-CORP-MSN-AS-BLOCK, US             8307\n",
       "4   45.41.128.0/18                  WEB2OBJECTS, US             6582\n",
       "5       73.0.0.0/8                 COMCAST-7922, US             6529\n",
       "6    74.125.0.0/16                       GOOGLE, US             5121\n",
       "7    66.102.8.0/23                       GOOGLE, US             4847\n",
       "8  64.233.172.0/23                       GOOGLE, US             3946\n",
       "9     107.0.0.0/14                 COMCAST-7922, US             3862"
      ]
     },
     "execution_count": 315,
     "metadata": {},
     "output_type": "execute_result"
    }
   ],
   "source": [
    "value_counts_multi(bdf, 'remote_ip', ['netblock','as_org']).head(10)"
   ]
  },
  {
   "cell_type": "code",
   "execution_count": 316,
   "metadata": {},
   "outputs": [],
   "source": [
    "nbs = bdf.netblock.value_counts().head(20).index.tolist()"
   ]
  },
  {
   "cell_type": "code",
   "execution_count": 317,
   "metadata": {},
   "outputs": [
    {
     "name": "stdout",
     "output_type": "stream",
     "text": [
      "('40.64.0.0/10', 'MICROSOFT-CORP-MSN-AS-BLOCK, US')\n",
      "count: 8307\n",
      "request_header_user_agent:\n",
      "Mozilla/5.0 (Windows NT 10.0; Win64; x64) AppleWebKit/537.36 (KHTML, like Gecko) Chrome/57.0.2987.133 Safari/537.36    7535\n",
      "Mozilla/4.0 (compatible; MSIE 8.0; Windows NT 6.1; Trident/4.0)                                                         689\n",
      "Mozilla/5.0 (Windows NT 10.0; WOW64; Trident/7.0; rv:11.0) like Gecko                                                    35\n",
      "-                                                                                                                        33\n",
      "Mozilla/5.0 (Windows NT 6.1; WOW64) AppleWebKit/534+ (KHTML, like Gecko) BingPreview/1.0b                                11\n",
      "Name: request_header_user_agent, dtype: int64\n",
      "\n",
      "request_header_user_agent__browser__family:\n",
      "Chrome         7538\n",
      "IE              725\n",
      "Other            33\n",
      "BingPreview      11\n",
      "Name: request_header_user_agent__browser__family, dtype: int64\n",
      "\n",
      "request_header_user_agent__browser__version_string:\n",
      "57.0.2987    7535\n",
      "8.0           689\n",
      "11.0           36\n",
      "               33\n",
      "1.0            11\n",
      "Name: request_header_user_agent__browser__version_string, dtype: int64\n",
      "\n",
      "request_header_user_agent__os__family:\n",
      "Windows    8274\n",
      "Other        33\n",
      "Name: request_header_user_agent__os__family, dtype: int64\n",
      "\n",
      "request_header_user_agent__os__version_string:\n",
      "10    7574\n",
      "7      700\n",
      "        33\n",
      "Name: request_header_user_agent__os__version_string, dtype: int64\n",
      "\n",
      "request_header_user_agent__is_mobile:\n",
      "False    8307\n",
      "Name: request_header_user_agent__is_mobile, dtype: int64\n",
      "\n",
      "IP/24s:\n",
      "40.112.60.0     432\n",
      "40.94.35.0      424\n",
      "40.94.27.0      407\n",
      "40.94.36.0      384\n",
      "40.94.29.0      377\n",
      "40.107.222.0    374\n",
      "40.107.240.0    373\n",
      "40.94.28.0      372\n",
      "Name: ip_slash24, dtype: int64\n",
      "\n",
      "AS Orgs:\n",
      "MICROSOFT-CORP-MSN-AS-BLOCK, US    8307\n",
      "Name: as_org, dtype: int64\n",
      "\n",
      "Percentiles for clickdelay_minutes:\n",
      "5.0\t0:00:00\n",
      "25.0\t0:01:51\n",
      "50.0\t1:14:55\n",
      "75.0\t2 days, 23:51:11\n",
      "95.0\t18 days, 22:01:02\n",
      "80.0th percentile: 7397.0\n"
     ]
    },
    {
     "data": {
      "image/png": "[encoded data removed]",
      "text/plain": [
       "<Figure size 1296x720 with 1 Axes>"
      ]
     },
     "metadata": {
      "needs_background": "light"
     },
     "output_type": "display_data"
    }
   ],
   "source": [
    "# 0, 1, 3\n",
    "nblock = nbs[3]\n",
    "print(asndb.get_asn_details(nblock_to_ip(nblock))[1:])\n",
    "ua_analyzer(bdf, 'netblock', nblock)"
   ]
  },
  {
   "cell_type": "code",
   "execution_count": 318,
   "metadata": {},
   "outputs": [
    {
     "name": "stdout",
     "output_type": "stream",
     "text": [
      "Percentiles for clickdelay_minutes:\n",
      "5.0\t0:00:58\n",
      "25.0\t0:30:35\n",
      "50.0\t4:08:03\n",
      "75.0\t6 days, 22:38:32\n",
      "95.0\t23 days, 9:17:24\n"
     ]
    }
   ],
   "source": [
    "show_delay_pctiles(bdf)"
   ]
  },
  {
   "cell_type": "code",
   "execution_count": null,
   "metadata": {},
   "outputs": [],
   "source": []
  },
  {
   "cell_type": "code",
   "execution_count": 319,
   "metadata": {},
   "outputs": [
    {
     "data": {
      "text/plain": [
       "Mozilla/4.0 (compatible; MSIE 8.0; Windows NT 6.1; Trident/4.0)                                                                                                                                   48167\n",
       "Mozilla/4.0 (compatible; MSIE 8.0; Windows NT 6.1; WOW64; Trident/4.0; SLCC2; .NET CLR 2.0.50727; .NET CLR 3.5.30729; .NET CLR 3.0.30729)                                                         47208\n",
       "Mozilla/5.0 (iPhone; CPU iPhone OS 13_3 like Mac OS X) AppleWebKit/605.1.15 (KHTML, like Gecko) Version/13.0.4 Mobile/15E148 Safari/604.1                                                         44731\n",
       "Mozilla/5.0 (Macintosh; Intel Mac OS X 10_11_6) AppleWebKit/537.36 (KHTML, like Gecko) Chrome/53.0.2785.143 Safari/537.36                                                                         17811\n",
       "Mozilla/5.0 (Windows NT 10.0; Win64; x64) AppleWebKit/537.36 (KHTML, like Gecko) Chrome/79.0.3945.88 Safari/537.36                                                                                10602\n",
       "Mozilla/5.0 (Windows NT 10.0; Win64; x64) AppleWebKit/537.36 (KHTML, like Gecko) Chrome/79.0.3945.117 Safari/537.36                                                                                8626\n",
       "Mozilla/5.0 (Windows NT 6.1; Win64; x64) AppleWebKit/537.36 (KHTML, like Gecko) Chrome/68.0.3440.106 Safari/537.36                                                                                 7894\n",
       "Mozilla/5.0 (Windows NT 10.0; Win64; x64) AppleWebKit/537.36 (KHTML, like Gecko) Chrome/57.0.2987.133 Safari/537.36                                                                                7666\n",
       "Mozilla/5.0 (Macintosh; Intel Mac OS X 10.14; rv:67.0) Gecko/20100101 Firefox/67.0                                                                                                                 6710\n",
       "Mozilla/4.0 (compatible; MSIE 8.0; Windows NT 6.1; WOW64; Trident/4.0; SLCC2; .NET CLR 2.0.50727; .NET CLR 3.5.30729; .NET CLR 3.0.30729; Media Center PC 6.0; .NET4.0C; .NET4.0E; InfoPath.2)     6040\n",
       "Name: request_header_user_agent, dtype: int64"
      ]
     },
     "execution_count": 319,
     "metadata": {},
     "output_type": "execute_result"
    }
   ],
   "source": [
    "uas = bdf.request_header_user_agent.value_counts().head(20).index.tolist()\n",
    "bdf.request_header_user_agent.value_counts().head(10)"
   ]
  },
  {
   "cell_type": "code",
   "execution_count": 320,
   "metadata": {},
   "outputs": [
    {
     "name": "stdout",
     "output_type": "stream",
     "text": [
      "count: 17811\n",
      "request_header_user_agent:\n",
      "Mozilla/5.0 (Macintosh; Intel Mac OS X 10_11_6) AppleWebKit/537.36 (KHTML, like Gecko) Chrome/53.0.2785.143 Safari/537.36    17811\n",
      "Name: request_header_user_agent, dtype: int64\n",
      "\n",
      "request_header_user_agent__browser__family:\n",
      "Chrome    17811\n",
      "Name: request_header_user_agent__browser__family, dtype: int64\n",
      "\n",
      "request_header_user_agent__browser__version_string:\n",
      "53.0.2785    17811\n",
      "Name: request_header_user_agent__browser__version_string, dtype: int64\n",
      "\n",
      "request_header_user_agent__os__family:\n",
      "Mac OS X    17811\n",
      "Name: request_header_user_agent__os__family, dtype: int64\n",
      "\n",
      "request_header_user_agent__os__version_string:\n",
      "10.11.6    17811\n",
      "Name: request_header_user_agent__os__version_string, dtype: int64\n",
      "\n",
      "request_header_user_agent__is_mobile:\n",
      "False    17811\n",
      "Name: request_header_user_agent__is_mobile, dtype: int64\n",
      "\n",
      "IP/24s:\n",
      "54.202.215.0    789\n",
      "54.186.231.0    776\n",
      "34.219.100.0    723\n",
      "34.220.15.0     719\n",
      "18.237.130.0    718\n",
      "34.222.133.0    715\n",
      "54.188.78.0     489\n",
      "34.212.183.0    487\n",
      "Name: ip_slash24, dtype: int64\n",
      "\n",
      "AS Orgs:\n",
      "AMAZON-02, US    17808\n",
      "BACOM, CA            2\n",
      "SHAW, CA             1\n",
      "Name: as_org, dtype: int64\n",
      "\n",
      "Netblocks:\n",
      "34.208.0.0/12    6548\n",
      "18.236.0.0/15    2589\n",
      "35.160.0.0/13    1263\n",
      "54.186.0.0/15    1128\n",
      "54.202.0.0/15     929\n",
      "54.184.0.0/15     922\n",
      "54.212.0.0/16     651\n",
      "54.188.0.0/15     597\n",
      "Name: netblock, dtype: int64\n",
      "\n",
      "Percentiles for clickdelay_minutes:\n",
      "5.0\t1:36:25\n",
      "25.0\t2:11:09\n",
      "50.0\t2:30:36\n",
      "75.0\t2:41:36\n",
      "95.0\t3 days, 1:32:41\n",
      "80.0th percentile: 286.6\n"
     ]
    },
    {
     "data": {
      "image/png": "[encoded data removed]",
      "text/plain": [
       "<Figure size 1296x720 with 1 Axes>"
      ]
     },
     "metadata": {
      "needs_background": "light"
     },
     "output_type": "display_data"
    }
   ],
   "source": [
    "ua = uas[3]\n",
    "\n",
    "ua_analyzer(bdf, 'request_header_user_agent', ua)"
   ]
  },
  {
   "cell_type": "markdown",
   "metadata": {},
   "source": [
    "### I've already gone through the top 10 and identified some things that look more automated.\n",
    "Let's quantify this using the same process as before."
   ]
  },
  {
   "cell_type": "code",
   "execution_count": 321,
   "metadata": {},
   "outputs": [],
   "source": [
    "b_suspicious_uas = ['Mozilla/4.0 (compatible; MSIE 8.0; Windows NT 6.1; Trident/4.0)',\n",
    "    'Mozilla/4.0 (compatible; MSIE 8.0; Windows NT 6.1; WOW64; Trident/4.0; SLCC2; .NET CLR 2.0.50727; .NET CLR 3.5.30729; .NET CLR 3.0.30729)',\n",
    "    'Mozilla/5.0 (Macintosh; Intel Mac OS X 10_11_6) AppleWebKit/537.36 (KHTML, like Gecko) Chrome/53.0.2785.143 Safari/537.36',\n",
    "    'Mozilla/5.0 (Windows NT 10.0; Win64; x64) AppleWebKit/537.36 (KHTML, like Gecko) Chrome/57.0.2987.133 Safari/537.36',\n",
    "    'Mozilla/5.0 (Windows NT 6.1; Win64; x64) AppleWebKit/537.36 (KHTML, like Gecko) Chrome/68.0.3440.106 Safari/537.36',\n",
    "    'Mozilla/5.0 (Macintosh; Intel Mac OS X 10.14; rv:67.0) Gecko/20100101 Firefox/67.0',\n",
    "    'Mozilla/4.0 (compatible; MSIE 8.0; Windows NT 6.1; WOW64; Trident/4.0; SLCC2; .NET CLR 2.0.50727; .NET CLR 3.5.30729; .NET CLR 3.0.30729; Media Center PC 6.0; .NET4.0C; .NET4.0E; InfoPath.2)',\n",
    "    'Mozilla/5.0 (Windows NT 6.1; WOW64; Trident/7.0; rv:11.0) like Gecko',\n",
    "    'Mozilla/5.0 (X11; Linux x86_64) AppleWebKit/537.36 (KHTML, like Gecko) HeadlessChrome/78.0.3904.70 Safari/537.36']\n",
    "\n",
    "b_suspicious_24s = ['209.222.82.0', '65.154.226.0', '45.41.142.0', '107.1.86.0', '198.209.37.0', '65.155.30.0']"
   ]
  },
  {
   "cell_type": "code",
   "execution_count": 322,
   "metadata": {},
   "outputs": [
    {
     "data": {
      "text/plain": [
       "False    62.017438\n",
       "True     37.982562\n",
       "Name: suspicious_ua, dtype: float64"
      ]
     },
     "execution_count": 322,
     "metadata": {},
     "output_type": "execute_result"
    }
   ],
   "source": [
    "bdf['suspicious_ua'] = bdf['request_header_user_agent'].isin(b_suspicious_uas)\n",
    "bdf['suspicious_ua'].value_counts(normalize=True) * 100"
   ]
  },
  {
   "cell_type": "code",
   "execution_count": 323,
   "metadata": {},
   "outputs": [
    {
     "data": {
      "text/plain": [
       "False    80.961818\n",
       "True     19.038182\n",
       "Name: suspicious_nb, dtype: float64"
      ]
     },
     "execution_count": 323,
     "metadata": {},
     "output_type": "execute_result"
    }
   ],
   "source": [
    "bdf['suspicious_nb'] = bdf['ip_slash24'].isin(b_suspicious_24s)\n",
    "bdf['suspicious_nb'].value_counts(normalize=True) * 100"
   ]
  },
  {
   "cell_type": "code",
   "execution_count": 324,
   "metadata": {},
   "outputs": [
    {
     "data": {
      "text/plain": [
       "False    81.060901\n",
       "True     18.939099\n",
       "Name: both_suspicious, dtype: float64"
      ]
     },
     "execution_count": 324,
     "metadata": {},
     "output_type": "execute_result"
    }
   ],
   "source": [
    "bdf['both_suspicious'] = bdf[['suspicious_ua', 'suspicious_nb']].all(1)\n",
    "bdf['both_suspicious'].value_counts(normalize=True) * 100"
   ]
  },
  {
   "cell_type": "code",
   "execution_count": 325,
   "metadata": {},
   "outputs": [
    {
     "data": {
      "text/plain": [
       "False    61.918354\n",
       "True     38.081646\n",
       "Name: either_suspicious, dtype: float64"
      ]
     },
     "execution_count": 325,
     "metadata": {},
     "output_type": "execute_result"
    }
   ],
   "source": [
    "bdf['either_suspicious'] = bdf[['suspicious_ua', 'suspicious_nb']].any(1)\n",
    "bdf['either_suspicious'].value_counts(normalize=True) * 100"
   ]
  },
  {
   "cell_type": "code",
   "execution_count": null,
   "metadata": {},
   "outputs": [],
   "source": []
  },
  {
   "cell_type": "markdown",
   "metadata": {},
   "source": [
    "## What's next?\n"
   ]
  },
  {
   "cell_type": "code",
   "execution_count": 327,
   "metadata": {},
   "outputs": [],
   "source": [
    "import sklearn\n",
    "\n",
    "# machine learning!"
   ]
  },
  {
   "cell_type": "code",
   "execution_count": null,
   "metadata": {},
   "outputs": [],
   "source": []
  }
 ],
 "metadata": {
  "kernelspec": {
   "display_name": "Python 3",
   "language": "python",
   "name": "python3"
  },
  "language_info": {
   "codemirror_mode": {
    "name": "ipython",
    "version": 3
   },
   "file_extension": ".py",
   "mimetype": "text/x-python",
   "name": "python",
   "nbconvert_exporter": "python",
   "pygments_lexer": "ipython3",
   "version": "3.7.4"
  }
 },
 "nbformat": 4,
 "nbformat_minor": 4
}
